{
 "cells": [
  {
   "cell_type": "markdown",
   "id": "8aa340c8-abe4-42e7-b3f6-630ffb95082a",
   "metadata": {},
   "source": [
    "# Le Filtrage Collaboratif (Collaborative Filtering)"
   ]
  },
  {
   "cell_type": "markdown",
   "id": "513f5b1f-739e-417b-a8ff-a148bbbffbe8",
   "metadata": {},
   "source": [
    "### Table des matières <a id=\"0\"></a>\n",
    "- [Packages](#1)\n",
    "- [Notation](#2)\n",
    "- [Propos de l'ensemble de données](#3)\n",
    "- [ACP](#6)\n",
    "- [L'algorithme du filtrage collaboratif](#4)\n",
    "  - [Fonction de perte](#4.1)\n",
    "  - [Descente de gradient](#4.2)\n",
    "- [Évaluation](#5)"
   ]
  },
  {
   "cell_type": "markdown",
   "id": "6c7dd27a-c9d9-44f3-9bc9-5c17dd856839",
   "metadata": {},
   "source": [
    "## Packages. <a id=\"1\"></a>"
   ]
  },
  {
   "cell_type": "markdown",
   "id": "f6c49d7f-c6fb-4932-8550-5f93031d1fc1",
   "metadata": {},
   "source": [
    "NumPy, Pandas et TensorFlow sont les packages utiles dans ce projet."
   ]
  },
  {
   "cell_type": "code",
   "execution_count": 119,
   "id": "88331203-e32a-40bc-83ea-9334df398262",
   "metadata": {},
   "outputs": [],
   "source": [
    "import pandas as pd\n",
    "import numpy as np\n",
    "import tensorflow as tf\n",
    "from tensorflow import keras\n",
    "from FonctionUtile import *\n",
    "from PCA import *"
   ]
  },
  {
   "cell_type": "markdown",
   "id": "12d77ae8-14b0-4df7-afe7-1504251b506c",
   "metadata": {},
   "source": [
    "## Notation. <a id=\"2\"></a>"
   ]
  },
  {
   "cell_type": "markdown",
   "id": "a8ec5f24-daf7-4e4b-a955-0e8a09edf97e",
   "metadata": {},
   "source": [
    "\\begin{array}{|l|l|l|}\n",
    "\\hline\n",
    "\\text{Notation} & \\text{Description} & \\text{Python (le cas échéant)} \\\\\n",
    "\\hline\n",
    "r(i,j) & \\text{scalaire; } = 1 \\text{ si l'utilisateur } j \\text{ a évalué le film } i, = 0 \\text{ sinon} & \\\\\n",
    "y(i,j) & \\text{scalaire; note donnée par l'utilisateur } j \\text{ pour le film } i \\text{ (si } r(i,j) = 1 \\text{ est défini)} & \\\\\n",
    "\\mathbf{w}^{(j)} & \\text{vecteur; paramètres pour l'utilisateur } j & \\\\\n",
    "\\mathbf{x}^{(i)} & \\text{vecteur; caractéristiques du film } i & \\\\\n",
    "b^{(i,j)} & \\text{scalaire; paramètre de biais pour le film } i \\text{ et l'utilisateur } j & \\text{b}\\\\\n",
    "b_u^{(j)} & \\text{scalaire; paramètre de biais pour l'utilisateur } j &  \\\\\n",
    "b_f^{(i)} & \\text{scalaire; paramètre de biais pour le film } i  &  \\\\\n",
    "b_u & \\text{vecteur; paramètres de biais pour l'utilisateur } j & \\text{b\\_u} \\\\\n",
    "b_f & \\text{vecteur; paramètres de biais pour le film } i  & \\text{b\\_f} \\\\\n",
    "n_u & \\text{nombre d'utilisateurs} & \\text{nb\\_utilisateurs} \\\\\n",
    "n_f & \\text{nombre de films} & \\text{nb\\_films} \\\\\n",
    "k & \\text{nombre de caractéristiques} & \\text{nb\\_caracs} \\\\\n",
    "\\mathbf{X} & \\text{matrice de vecteurs } \\mathbf{x}^{(i)} & \\text{X} \\\\\n",
    "\\mathbf{W} & \\text{matrice de vecteurs } \\mathbf{w}^{(j)} & \\text{W} \\\\\n",
    "\\mathbf{B} & \\text{matrice de paramètres de biais } b^{(i,j)} & \\text{B} \\\\\n",
    "\\mathbf{R} & \\text{matrice des éléments } r(i,j) & \\text{R} \\\\\n",
    "\\mathbf{Y} & \\text{matrice des éléments } y(i,j) & \\text{Y} \\\\\n",
    "\\mathbf{\\hat{Y}} & \\text{matrice approximative de } \\mathbf{Y} & \\\\\n",
    "\\hline\n",
    "\\end{array}"
   ]
  },
  {
   "cell_type": "markdown",
   "id": "80c234aa-a10f-4aa5-95b1-40d9a90c0d97",
   "metadata": {},
   "source": [
    "## Propos de l'ensemble de données. <a id=\"3\"></a>"
   ]
  },
  {
   "cell_type": "code",
   "execution_count": 120,
   "id": "7693709e-5a7c-4473-a99f-93ce9d04a552",
   "metadata": {},
   "outputs": [
    {
     "name": "stdout",
     "output_type": "stream",
     "text": [
      "Matrix Y dim  (9724, 610)\n",
      "Matrix R dim  (9724, 610)\n",
      "Nombre de films:  9724\n",
      "Nombre d'utilisateurs:  610\n",
      "Nombre de caracteristiques:  10\n"
     ]
    }
   ],
   "source": [
    "#importer les données\n",
    "Y,R = data_ratings()\n",
    "nb_caracs = 10 # Choisissez 10 car ce nombre réduit le coût tout en étant suffisamment grand pour un grand ensemble de données.\n",
    "print(\"Matrix Y dim \", Y.shape)\n",
    "print(\"Matrix R dim \", R.shape)\n",
    "nb_films, nb_utilisateurs=Y.shape\n",
    "print(\"Nombre de films: \", nb_films)\n",
    "print(\"Nombre d'utilisateurs: \", nb_utilisateurs)\n",
    "print(\"Nombre de caracteristiques: \", nb_caracs)"
   ]
  },
  {
   "cell_type": "markdown",
   "id": "2c0ef290-3e8f-417d-b10b-e020188c58a4",
   "metadata": {},
   "source": [
    "Il est nécessaire de savoir que dans la matrice des notes $Y$, les notes vont de 0.5 à 5 par intervalles de 0.5. Toutes les cellules à 0 signifient que les clients n'ont pas encore donné de note ou n'ont pas voté."
   ]
  },
  {
   "cell_type": "markdown",
   "id": "6ffb0baf-7212-488a-bab2-ecf08e7aaeb0",
   "metadata": {},
   "source": [
    "La matrice $Y$ est une matrice creuse dans la plupart des applications, car seule une petite fraction de ses éléments est différente de zéro."
   ]
  },
  {
   "cell_type": "code",
   "execution_count": 121,
   "id": "039f5812-9d3e-4be2-b9ea-6490a02818da",
   "metadata": {},
   "outputs": [
    {
     "name": "stdout",
     "output_type": "stream",
     "text": [
      "Nombre de cellules dans Y :  5931640\n",
      "Nombre de notes attribuées :  100836\n",
      "Taux de notes attribuées par rapport à toutes les cellules :  1.6999683055613624 %\n"
     ]
    }
   ],
   "source": [
    "print(\"Nombre de cellules dans Y : \", nb_utilisateurs * nb_films)\n",
    "print(\"Nombre de notes attribuées : \", R.sum())\n",
    "print(\"Taux de notes attribuées par rapport à toutes les cellules : \", (R.sum() / (nb_utilisateurs * nb_films)) * 100, \"%\")"
   ]
  },
  {
   "cell_type": "markdown",
   "id": "b931ba74-d38c-4ad7-8901-5c2b50f800f2",
   "metadata": {},
   "source": [
    "**J'ajoute le nouvel utilisateur dans le but de lui faire [des recommandations par la suite](#rec).** <a id=\"new-user\"></a>"
   ]
  },
  {
   "cell_type": "code",
   "execution_count": 122,
   "id": "cfbd8339-b853-44d1-a969-d36eba4df24d",
   "metadata": {},
   "outputs": [],
   "source": [
    "#initialize mes notes\n",
    "mes_notes = np.zeros(nb_films)\n",
    "\n",
    "#Regarder le fichier 'movise_list.csv'\n",
    "mes_notes[0]=1 # Si je ne préfére pas ce film\n",
    "mes_notes[0]=5 # Si j préfére ce film\n",
    "\n",
    "#Je crée mes listes de notes. Les notes doivent être entières\n",
    "# L'index maximum correspond au (nombre total de films -1)\n",
    "mes_notes[0]= 5    # Toy story (1995)\n",
    "mes_notes[483]=3    # Nightmare Before Christmas, The (1993)\n",
    "mes_notes[480]=2   # Terminal Velocity (1994)\n",
    "mes_notes[1402]=2   # Pi (1998)\n",
    "mes_notes[1400]=4   # Madeline (1998)\n",
    "mes_notes[2695]=5   # Loser (2000)\n",
    "mes_notes[2696]=4   # Road Trip (2000)\n",
    "mes_notes[2734]=3  # Benji(1974)\n",
    "mes_notes[3090]=1   # Hannibal(2001)\n",
    "mes_notes[3942]=3   # Time after Time (1979)\n",
    "mes_notations=     [i for i in range(len(mes_notes)) if mes_notes[i] > 0]# Stocke les indices des films que j'ai notés"
   ]
  },
  {
   "cell_type": "code",
   "execution_count": 123,
   "id": "b1edf13b-4168-42ca-9aae-e44bdfe8d645",
   "metadata": {},
   "outputs": [],
   "source": [
    "# Ajouter un nouvel utilisateur à la matrice Y.\n",
    "Y = np.c_[mes_notes, Y] #Le nouvel utilisateur ajouté occupe l'indice 0 dans la colonne des utilisateurs\n",
    "\n",
    "# Ajouter l'indicateur de nouvel utilisateur à la matrice R\n",
    "R = np.c_[(mes_notes != 0).astype(int), R]"
   ]
  },
  {
   "cell_type": "markdown",
   "id": "5acd9f66-5bdf-4c9f-845d-1406d1796888",
   "metadata": {},
   "source": [
    "Le nombre de films et d'utilisateurs est maintenant le suivant :"
   ]
  },
  {
   "cell_type": "code",
   "execution_count": 124,
   "id": "30874b4e-89fd-4870-af18-14342d1f9bba",
   "metadata": {},
   "outputs": [
    {
     "name": "stdout",
     "output_type": "stream",
     "text": [
      "Matrix Y dim  (9724, 611)\n",
      "Matrix R dim  (9724, 611)\n",
      "Nombre de films:  9724\n",
      "Nombre d'utilisateurs:  611\n"
     ]
    }
   ],
   "source": [
    "print(\"Matrix Y dim \", Y.shape)\n",
    "print(\"Matrix R dim \", R.shape)\n",
    "nb_films, nb_utilisateurs=Y.shape\n",
    "print(\"Nombre de films: \", nb_films)\n",
    "print(\"Nombre d'utilisateurs: \", nb_utilisateurs)"
   ]
  },
  {
   "cell_type": "code",
   "execution_count": 125,
   "id": "a5741785-bb06-4ca1-bc2d-cce3bdadac32",
   "metadata": {},
   "outputs": [
    {
     "name": "stdout",
     "output_type": "stream",
     "text": [
      "Matrix note moyenne dim  (9724, 1)\n",
      "Matrix note normalisé dim  (9724, 611)\n"
     ]
    }
   ],
   "source": [
    "#Charger les données pour la fonction de pré-calcul.\n",
    "Ymean, Ynorm = normalizeRatings(Y,R)\n",
    "print(\"Matrix note moyenne dim \", Ymean.shape)\n",
    "print(\"Matrix note normalisé dim \", Ynorm.shape)"
   ]
  },
  {
   "cell_type": "markdown",
   "id": "8f8c894a-d36a-42d3-b5f3-134c8c8a6d01",
   "metadata": {},
   "source": [
    "Maintenant, nous calculons la note moyenne pour chaque film par la $i$-ème ligne de la matrice $Y$, en excluant les zéros, c'est-à-dire uniquement les films qui ont été évalués sont inclus."
   ]
  },
  {
   "cell_type": "markdown",
   "id": "86003455-368a-4114-ada5-40a54502e366",
   "metadata": {},
   "source": [
    "On calcule les biais des utilisateurs et des films, ainsi que la moyenne de toutes les notes."
   ]
  },
  {
   "cell_type": "code",
   "execution_count": 126,
   "id": "8ce69a38-5ffc-4e8d-8897-d3588dc9a35d",
   "metadata": {},
   "outputs": [
    {
     "name": "stdout",
     "output_type": "stream",
     "text": [
      "La taille de dict utilisateur_ratings : 610\n",
      "La taille de dict utilisateur_ratings_updated : 611\n",
      "Total biais de l'utilisateur : 611\n",
      "Total biais du film: 9724\n",
      "La moyenne de Ymean : 3.2624895815718498\n",
      "La moyenne de toutes les notes : 3.501527080895623\n"
     ]
    }
   ],
   "source": [
    "#Charger les données pour la fonction de pré-calcul.\n",
    "utilisateur_ratings,film_ratings =  dict_evaluations()#origine \n",
    "\n",
    "# On utilise .copy() pour éviter que utilisateur_ratings et film_ratings \n",
    "# ne soient modifiés lorsqu'ils sont passés à la fonction update_dict_evaluations. \n",
    "# Cela permet de travailler avec des copies indépendantes des dictionnaires d'origine.\n",
    "utilisateur_ratings_updated,film_ratings_updated = update_dict_evaluations(Y, utilisateur_ratings.copy(),film_ratings.copy())\n",
    "print(f\"La taille de dict utilisateur_ratings : {len(utilisateur_ratings)}\")\n",
    "print(f\"La taille de dict utilisateur_ratings_updated : {len(utilisateur_ratings_updated)}\")\n",
    "mu,b_u,b_f = bias_param(Y, utilisateur_ratings_updated.copy(), film_ratings_updated.copy())\n",
    "print(f\"Total biais de l'utilisateur : {len(b_u)}\")\n",
    "print(f\"Total biais du film: {len(b_f)}\")\n",
    "print(f\"La moyenne de Ymean : {np.mean(Ymean)}\")\n",
    "print(f\"La moyenne de toutes les notes : {mu}\")"
   ]
  },
  {
   "cell_type": "markdown",
   "id": "f79eb42f-7c87-4299-9b3e-31c62402ad02",
   "metadata": {},
   "source": [
    "En effet, la moyenne de $\\mathbf Ymean$ (c'est-à-dire la moyenne des moyennes de chaque film) n'est pas la même que la moyenne de toutes les notes, simplement parce que dans la moyenne de toutes les notes ($\\mu$), chaque évaluation est considérée comme une valeur ponctuelle, donc toutes les évaluations ont un poids égal. Dans la moyenne de Ymean, vous calculez d'abord la moyenne pour chaque film. Cela peut augmenter ou diminuer le poids des films en fonction du nombre d'évaluations que chaque film reçoit."
   ]
  },
  {
   "cell_type": "code",
   "execution_count": 127,
   "id": "fd8e0673-82d9-4dbf-a172-087124e01d0a",
   "metadata": {},
   "outputs": [
    {
     "name": "stdout",
     "output_type": "stream",
     "text": [
      "(9724, 611)\n"
     ]
    }
   ],
   "source": [
    "B = Biais_matrix(b_f,b_u,mu,Y)\n",
    "print(B.shape)"
   ]
  },
  {
   "cell_type": "markdown",
   "id": "803e8b03-b62d-4963-90fa-c76fc3cdc133",
   "metadata": {},
   "source": [
    "## l'ACP <a id=\"6\"></a>"
   ]
  },
  {
   "cell_type": "markdown",
   "id": "bfc0477a-6381-418c-b9ec-267150178ec5",
   "metadata": {},
   "source": [
    "Dans ce projet, nous avons deux types de modèles.\n",
    "\n",
    "**Premier type (Modèle initial et Ajustement principal du modèle)** :  \n",
    "Dans cette approche, nous ajustons le modèle en fonction de la matrice des évaluations $Y$. L'objectif est de réduire la dimension de cette matrice $Y$, ce qui nous permet de simplifier le problème tout en conservant l'information essentielle. Cependant, cette approche traite directement les évaluations d'origine sans effectuer de transformations supplémentaires sur les données.\n",
    "\n",
    "**Deuxième type (Modèles avec ajustements supplémentaires)** :  \n",
    "Ici, nous travaillons avec des modèles qui ajustent les évaluations normalisées $Y_{norm}$. Parmi ces modèles, l'un d'eux utilise la matrice pré-calculée $B$, ce qui nous amène également à réduire la dimension de cette matrice $B$ afin de l'adapter à la réduction de la dimension de $Y$.\n",
    "\n",
    "Nous pouvons visualiser les utilisateurs comme des *features* de chaque film. Cela signifie que nous pouvons obtenir une meilleure compréhension de la façon dont un film est évalué par les utilisateurs, en fonction des interactions avec ces derniers. Cette approche nous permet de construire une matrice carrée des *features* des films, avec des dimensions égales à $\\textbf{nb\\_d'utilisateur} \\times \\textbf{nb\\_d'utilisateur}$, où chaque entrée représente une relation ou une interaction entre deux utilisateurs à propos des films qu'ils ont évalués.\n",
    "\n",
    "À partir d'une matrice des *features* des films, nous calculons les matrices de covariance correspondantes.\n"
   ]
  },
  {
   "cell_type": "code",
   "execution_count": 128,
   "id": "cc332d0e-18e1-4162-8c64-560a4d5cb515",
   "metadata": {},
   "outputs": [],
   "source": [
    "covar_matriceY = matrix_covariance(Y)\n",
    "covar_matriceYnorm = matrix_covariance(Ynorm)\n",
    "covar_matriceB = matrix_covariance(B)"
   ]
  },
  {
   "cell_type": "markdown",
   "id": "6c44e234-56ad-4464-bf37-68cdc82ddfa3",
   "metadata": {},
   "source": [
    "Ensuite, nous calculons les valeurs propres ainsi que les vecteurs propres afin de déduire une matrice de projection (ACP). Nous trions ensuite les vecteurs propres par ordre décroissant."
   ]
  },
  {
   "cell_type": "code",
   "execution_count": 129,
   "id": "d2eff112-0905-48bb-8a63-3cf4b0dd6943",
   "metadata": {},
   "outputs": [],
   "source": [
    "eigenvaluesY, eigenvectorsY = eigen(covar_matriceY)\n",
    "eigenvaluesYnorm, eigenvectorsYnorm = eigen(covar_matriceYnorm)\n",
    "eigenvaluesB, eigenvectorsB = eigen(covar_matriceB)"
   ]
  },
  {
   "cell_type": "markdown",
   "id": "4c0c0091-610d-4a86-ac1a-99a9e6ea96af",
   "metadata": {},
   "source": [
    "Puis, il faut calculer la variance expliquée afin de déterminer combien de vecteurs propres utiliser pour conserver les composantes principales les plus importantes. Dans ce projet, je souhaite conserver 95 % de la variance.\n"
   ]
  },
  {
   "cell_type": "code",
   "execution_count": 130,
   "id": "c1a88710-e0f4-4d20-a198-f0e8d3e5248d",
   "metadata": {},
   "outputs": [
    {
     "name": "stdout",
     "output_type": "stream",
     "text": [
      "Les valeurs propres ont été normalisées\n",
      "Les valeurs propres ont été normalisées\n"
     ]
    }
   ],
   "source": [
    "CEV_Y,var_expl_ratioY=cumulative_explained_variance(eigenvaluesY, normalized=False)\n",
    "CEV_Ynorm,var_expl_ratioYnorm=cumulative_explained_variance(eigenvaluesYnorm, normalized=False)"
   ]
  },
  {
   "cell_type": "markdown",
   "id": "bd3442b4-1d30-432a-afec-c364ded51e19",
   "metadata": {},
   "source": [
    "On identifie l'indice où la valeur de la fonction $\\textbf{cumulative\\_explained\\_variance}$ dépasse 95 %. Ensuite, on utilise cet indice pour construire la matrice ACP de taille $\\textbf{nb\\_utilisateur} \\times \\textbf{indice}$, qui contient les composantes principales les plus significatives.\n"
   ]
  },
  {
   "cell_type": "code",
   "execution_count": 131,
   "id": "a43461b3-4224-4442-88b8-bfed7e74a9a0",
   "metadata": {},
   "outputs": [
    {
     "name": "stdout",
     "output_type": "stream",
     "text": [
      "L'indice où la variance cumulative atteint 95%: 455\n",
      "Rapport de variance expliquée: 0.950336234129197\n"
     ]
    }
   ],
   "source": [
    "indice_95Y = np.searchsorted(CEV_Y, 0.95)  # Trouver l'indice où la variance cumulative atteint ou dépasse 0,95\n",
    "print(\"L'indice où la variance cumulative atteint 95%:\", indice_95Y)\n",
    "print(f\"Rapport de variance expliquée: {CEV_Y[indice_95Y]}\")"
   ]
  },
  {
   "cell_type": "code",
   "execution_count": 132,
   "id": "d69f9e42-ab06-41d0-9396-6786894338fe",
   "metadata": {},
   "outputs": [
    {
     "name": "stdout",
     "output_type": "stream",
     "text": [
      "L'indice où la variance cumulative atteint 95%: 475\n",
      "Rapport de variance expliquée: 0.9503155080065531\n"
     ]
    }
   ],
   "source": [
    "indice_95Ynorm = np.searchsorted(CEV_Ynorm, 0.95)  # Trouver l'indice où la variance cumulative atteint ou dépasse 0,95\n",
    "print(\"L'indice où la variance cumulative atteint 95%:\", indice_95Ynorm)\n",
    "print(f\"Rapport de variance expliquée: {CEV_Ynorm[indice_95Ynorm]}\")"
   ]
  },
  {
   "cell_type": "code",
   "execution_count": 133,
   "id": "c1d3411f-c404-4771-b4ba-706eaefd9966",
   "metadata": {},
   "outputs": [],
   "source": [
    "t = indice_95Y\n",
    "matrice_projectionY=eigenvectorsY[:,:t]"
   ]
  },
  {
   "cell_type": "code",
   "execution_count": 134,
   "id": "72bc5124-1971-490c-8533-1b3176a1100c",
   "metadata": {},
   "outputs": [
    {
     "name": "stdout",
     "output_type": "stream",
     "text": [
      "La dimension de Y dans l'espace de dimension réduite : (9724, 455)\n"
     ]
    }
   ],
   "source": [
    "newY=np.dot(Y,matrice_projectionY)\n",
    "print(\"La dimension de Y dans l'espace de dimension réduite :\", newY.shape)"
   ]
  },
  {
   "cell_type": "code",
   "execution_count": 135,
   "id": "11aa4f8e-92a8-4c82-8b5e-0122061b75f4",
   "metadata": {},
   "outputs": [],
   "source": [
    "v = indice_95Ynorm\n",
    "matrice_projectionYnorm=eigenvectorsYnorm[:,:v]\n",
    "matrice_projectionB=eigenvectorsB[:,:v]"
   ]
  },
  {
   "cell_type": "code",
   "execution_count": 136,
   "id": "2e627ba7-1eb8-43f3-b3f4-827560a16ad4",
   "metadata": {},
   "outputs": [
    {
     "name": "stdout",
     "output_type": "stream",
     "text": [
      "La dimension de Ynorm dans l'espace de dimension réduite : (9724, 475)\n",
      "La dimension de B dans l'espace de dimension réduite : (9724, 475)\n"
     ]
    }
   ],
   "source": [
    "newYnorm=np.dot(Ynorm,matrice_projectionYnorm)\n",
    "newB=np.dot(B,matrice_projectionB)\n",
    "print(\"La dimension de Ynorm dans l'espace de dimension réduite :\", newYnorm.shape)\n",
    "print(\"La dimension de B dans l'espace de dimension réduite :\", newB.shape)"
   ]
  },
  {
   "cell_type": "markdown",
   "id": "f48992a7-ccd3-470b-8516-8764aa1d430d",
   "metadata": {},
   "source": [
    "On observe que désormais, la dimension réduite des matrices ne contient plus 611 utilisateurs. En revanche, elle est de 455 pour la matrice $newY$ et de 475 pour les matrices $newYnorm$ et $newB$. Cela s'explique par le fait que les informations les plus importantes des 611 utilisateurs ont été condensées."
   ]
  },
  {
   "cell_type": "code",
   "execution_count": 137,
   "id": "b792d36c-31c6-4566-8d23-e23fe204c412",
   "metadata": {},
   "outputs": [
    {
     "name": "stdout",
     "output_type": "stream",
     "text": [
      "float64 float64 complex128\n"
     ]
    }
   ],
   "source": [
    "print(newY.dtype,newYnorm.dtype,newB.dtype)"
   ]
  },
  {
   "cell_type": "markdown",
   "id": "8c39fd26-265c-4bcc-8e46-58a5ff0bb5c6",
   "metadata": {},
   "source": [
    "Les valeurs dans la dimension réduite de la matrice $B$ sont des nombres complexes, ce qui pose des difficultés lors des calculs avec d'autres variables de types différents."
   ]
  },
  {
   "cell_type": "code",
   "execution_count": 138,
   "id": "9d1e0e64-c5c9-4d64-97c2-2d8e39d517e1",
   "metadata": {},
   "outputs": [
    {
     "name": "stdout",
     "output_type": "stream",
     "text": [
      "<dtype: 'float64'>\n"
     ]
    }
   ],
   "source": [
    "newB=tf.math.real(newB)\n",
    "print(newB.dtype)"
   ]
  },
  {
   "cell_type": "markdown",
   "id": "e986056d-727f-4d43-8eea-5d9371c440bc",
   "metadata": {},
   "source": [
    "On initialise la matrice des paramètres utilisateur $W$ et la matrice des paramètres des films $X$, où $X$ stocke les vecteurs de paramètres des utilisateurs $\\mathbf{x}^{(i)}$, tandis que la matrice $W$ stocke les vecteurs de paramètres des films $\\mathbf{w}^{(j)}$ afin d'entraîner le modèle. Avec cet ensemble de données, on choisit le nombre de caractéristiques $k = 10$.\n",
    "\n",
    "Pour le modèle type 1 : Modèle initial et Ajustement principal du modèle"
   ]
  },
  {
   "cell_type": "code",
   "execution_count": 139,
   "id": "85a5a543-f9d9-4878-8a54-bfcc174a1f5a",
   "metadata": {},
   "outputs": [
    {
     "name": "stdout",
     "output_type": "stream",
     "text": [
      "Matrix W dim  (10, 455)\n",
      "Matrix X dim  (9724, 10)\n"
     ]
    }
   ],
   "source": [
    "np.random.seed(12) # for consistent results\n",
    "W_initiale_pca1 = np.random.normal(size=(nb_caracs, t))\n",
    "X_initiale_pca1 = np.random.normal(size=(nb_films, nb_caracs))\n",
    "print(\"Matrix W dim \", W_initiale_pca1.shape)\n",
    "print(\"Matrix X dim \", X_initiale_pca1.shape)"
   ]
  },
  {
   "cell_type": "markdown",
   "id": "70d652a3-6d65-4feb-9fc5-83873b496eaf",
   "metadata": {},
   "source": [
    "Pour le modèle type 2 : Modèles avec ajustements supplémentaires"
   ]
  },
  {
   "cell_type": "code",
   "execution_count": 140,
   "id": "737eb4c6-588c-4f29-9819-91ca43138d3b",
   "metadata": {},
   "outputs": [
    {
     "name": "stdout",
     "output_type": "stream",
     "text": [
      "Matrix W dim  (10, 475)\n",
      "Matrix X dim  (9724, 10)\n"
     ]
    }
   ],
   "source": [
    "np.random.seed(12) # for consistent results\n",
    "W_initiale_pca2 = np.random.normal(size=(nb_caracs, v))\n",
    "X_initiale_pca2 = np.random.normal(size=(nb_films, nb_caracs))\n",
    "print(\"Matrix W dim \", W_initiale_pca2.shape)\n",
    "print(\"Matrix X dim \", X_initiale_pca2.shape)"
   ]
  },
  {
   "cell_type": "code",
   "execution_count": 141,
   "id": "b769c713-571e-4bb2-ab0f-b74425634ee8",
   "metadata": {},
   "outputs": [
    {
     "name": "stdout",
     "output_type": "stream",
     "text": [
      "-0.0012504759085286735\n"
     ]
    }
   ],
   "source": [
    "new_mu = np.mean(newY[newY != 0])\n",
    "print(new_mu)"
   ]
  },
  {
   "cell_type": "markdown",
   "id": "35c557f9-8fab-4159-ae38-5e1698be848c",
   "metadata": {},
   "source": [
    "## L'algorithme du filtrage collaboratif.<a id=\"4\"></a>"
   ]
  },
  {
   "cell_type": "markdown",
   "id": "cb80e6fd-f88d-4a45-889a-4330625f6c8f",
   "metadata": {},
   "source": [
    "### 1. fonction de perte. <a id=\"4.1\"></a>"
   ]
  },
  {
   "cell_type": "markdown",
   "id": "071a61ea-e7b9-4aa7-8686-98f26e272b94",
   "metadata": {},
   "source": [
    "#### Le modèle initial\n",
    "\n",
    "$$\\begin{align}\n",
    "\\mathcal{L}(\\mathbf{x^{(i)}}, \\mathbf{w^{(j)}}, \\mathbf{b_u}^{(j)},\\mathbf{b_m}^{(i)})= \\frac{1}{2} & \\sum_{(i,j) : r(i,j) = 1}  \\left( \\mathbf{x}^{(i)} \\cdot \\mathbf{w}^{(j)} + \\mathbf{b_u}^{(j)} + \\mathbf{b_m}^{(i)} +\\mu - y(i,j) \\right)^2  + \\underbrace{ \\frac{\\lambda}{2} \\left( ||\\mathbf{w}^{(j)}||^2 + ||\\mathbf{x}^{(i)}||^2 + (\\mathbf{b_u}^{(j)})^2 + (\\mathbf{b_m}^{(i)})^2 \\right) }_{\\text{regularization}} \n",
    "\\end{align} $$"
   ]
  },
  {
   "cell_type": "code",
   "execution_count": 142,
   "id": "3de5d041-e0d5-41df-8375-f34457b3d949",
   "metadata": {},
   "outputs": [],
   "source": [
    "def FonctionPerte_Init(W,X,b_u,b_f,Y,lambda_,mu):\n",
    "   \"\"\"\n",
    " Arguments :\n",
    "   X (ndarray (nb_films, nb_caracs)): matrice des caractéristiques des films\n",
    "   W (ndarray (nb_caracs, nb_utilisateurs)): matrice des paramètres des utilisateurs\n",
    "   b_u (ndarray (1, nb_utilisateur)) : vecteur des parametres de biais.\n",
    "   b_f (ndarray (nb_films, 1)) : vecteur des parametres de biais.\n",
    "   Y (ndarray (nb_films,nb_utilisateurs)): matrice des évaluations des utilisateurs pour les films\n",
    "   lambda_ (float): paramètre de régularisation\n",
    "   mu (float) : la moyenne de toutes les évaluations attribuées\n",
    " Retourne :\n",
    "   L (float): valeur de perte\n",
    "   \"\"\"\n",
    "    \n",
    "   l = (tf.linalg.matmul(X, W) + b_u + b_f + mu - Y)\n",
    "   L = 0.5 * tf.reduce_sum(l**2) + (lambda_/2) * (tf.reduce_sum(X**2) + tf.reduce_sum(W**2)+tf.reduce_sum(b_u**2)+tf.reduce_sum(b_f**2))\n",
    "   return L"
   ]
  },
  {
   "cell_type": "markdown",
   "id": "d24c4b54-1c71-468b-a0a3-4a1f55fa9c54",
   "metadata": {},
   "source": [
    "#### L'ajustement du modèle\r\n",
    "\r\n",
    "$$\r\n",
    "\\mathcal{L}(\\mathbf{x^{(i)}}, \\mathbf{w^{(j)}}, \\mathbf{b}^{(i,j)}) = \\frac{1}{2} \\sum_{(i,j) : r(i,j) = 1} \\left( \\mathbf{x}^{(i)} \\cdot \\mathbf{w}^{(j)} + \\mathbf{b}^{(i,j)} + \\mu - y(i,j) \\right)^2\r\n",
    "+ \\underbrace{ \\frac{\\lambda}{2} \\left( ||\\mathbf{w}^{(j)}||^2 + ||\\mathbf{x}^{(i)}||^2 + (\\mathbf{b}^{(i,j)})^2 \\right) }_{\\text{regularization}} \r\n",
    "$$\r\n"
   ]
  },
  {
   "cell_type": "code",
   "execution_count": 143,
   "id": "2664e590-73d8-41f4-a4a1-ed092020e745",
   "metadata": {},
   "outputs": [],
   "source": [
    "def FonctionPerte_Ajust(W,X,B,Y,lambda_,mu):\n",
    "   \"\"\"\n",
    " Arguments :\n",
    "   X (ndarray (nb_films, nb_caracs)): matrice des caractéristiques des films\n",
    "   W (ndarray (nb_caracs, nb_utilisateurs)): matrice des paramètres des utilisateurs\n",
    "   B (ndarray (nb_films, nb_utilisateurs)) : matrice des parametres de biais.\n",
    "   Y (ndarray (nb_films,nb_utilisateurs)): matrice des évaluations des utilisateurs pour les films\n",
    "   lambda_ (float): paramètre de régularisation\n",
    "   mu (float) : la moyenne de toutes les évaluations attribuées\n",
    " Retourne :\n",
    "   L (float): valeur de perte\n",
    "   \"\"\"\n",
    "   l = (tf.linalg.matmul(X, W) + B + mu - Y)\n",
    "   L = 0.5 * tf.reduce_sum(l**2) + (lambda_/2) * (tf.reduce_sum(X**2) + tf.reduce_sum(W**2)+tf.reduce_sum(B**2))\n",
    "   return L"
   ]
  },
  {
   "cell_type": "markdown",
   "id": "074148af-b157-4a6e-bd75-c08ee7f1558f",
   "metadata": {},
   "source": [
    "#### Des ajustements supplémentaires du modèle: \n",
    "\n",
    "##### l'Approche 1: ne fonctionne pas dans ce cas avec l'application de la PCA.\n",
    "\n",
    "$$\\begin{align}\n",
    "\\mathcal{L}({\\mathbf{x^{(i)}}, \\mathbf{w^{(j)}}, \\mathbf{b_u^{(j)}}, \\mathbf{b_m^{(i)}}})= \\frac{1}{2} & \\sum_{(i,j) : r(i,j) = 1}  \\left( \\mathbf{x}^{(i)} \\cdot \\mathbf{w}^{(j)} + \\mathbf{b_u}^{(j)} + \\mathbf{b_m}^{(i)} - y_{\\text{norm}}(i,j) \\right)^2 + \\underbrace{ \\frac{\\lambda}{2} \\left( ||\\mathbf{w}^{(j)}||^2 + ||\\mathbf{x}^{(i)}||^2 + (\\mathbf{b_u}^{(j)})^2 + (\\mathbf{b_m}^{(i)})^2 \\right) }_{\\text{regularization}} \n",
    "\\end{align} $$"
   ]
  },
  {
   "cell_type": "code",
   "execution_count": 144,
   "id": "3384b9d6-5744-4710-8b2b-96b2ff1f66cb",
   "metadata": {},
   "outputs": [],
   "source": [
    "def FonctionPerte_Sup1(W,X,b_u,b_f,Y,lambda_):\n",
    "   \"\"\"\n",
    " Arguments :\n",
    "   X (ndarray (nb_films, nb_caracs)): matrice des caractéristiques des films\n",
    "   W (ndarray (nb_caracs, nb_utilisateurs)): matrice des paramètres des utilisateurs\n",
    "   b_u (ndarray (1, nb_utilisateur)) : vecteur des parametres de biais.\n",
    "   b_f (ndarray (nb_films, 1)) : vecteur des parametres de biais.\n",
    "   Y (ndarray (nb_films,nb_utilisateurs)): matrice des évaluations des utilisateurs pour les films\n",
    "   lambda_ (float): paramètre de régularisation\n",
    " Retourne :\n",
    "   L (float): valeur de perte\n",
    "   \"\"\"\n",
    "   l = (tf.linalg.matmul(X, W) + b_u + b_f - Y)\n",
    "   L = 0.5 * tf.reduce_sum(l**2) + (lambda_/2) * (tf.reduce_sum(X**2) + tf.reduce_sum(W**2)+tf.reduce_sum(b_u**2)+tf.reduce_sum(b_f**2))\n",
    "   return L"
   ]
  },
  {
   "cell_type": "markdown",
   "id": "0b131fcb-17dd-428d-aca4-7e179dac7ba3",
   "metadata": {},
   "source": [
    "##### l'Approche 2:\n",
    "\n",
    "$$\\begin{align}\n",
    "\\mathcal{L}(\\mathbf{w}^{(j)}, \\mathbf{x}^{(i)}, \\mathbf{b}^{(i,j)}) = &  \\frac{1}{2}  \\sum_{(i,j): r(i,j) = 1}  \\left( \\mathbf{x}^{(i)} \\cdot \\mathbf{w}^{(j)} + \\mathbf{b}^{(i,j)} - y_{\\text{norm}}(i,j) \\right)^2 + \\underbrace{ \\frac{\\lambda}{2} \\left( ||\\mathbf{w}^{(j)}||^2 + ||\\mathbf{x}^{(i)}||^2 + (\\mathbf{b}^{(i,j)})^2 \\right) }_{\\text{regularization}} \\label{eq:cost_function_B}\n",
    "\\end{align}$$"
   ]
  },
  {
   "cell_type": "code",
   "execution_count": 145,
   "id": "3719f2f3-c8a9-4b63-aba1-10f05d7a9e39",
   "metadata": {},
   "outputs": [],
   "source": [
    "def FonctionPerte_Sup2(W,X,B,Y,lambda_):\n",
    "   \"\"\"\n",
    " Arguments :\n",
    "   X (ndarray (nb_films, nb_caracs)): matrice des caractéristiques des films\n",
    "   W (ndarray (nb_caracs, nb_utilisateurs)): matrice des paramètres des utilisateurs\n",
    "   B (ndarray (nb_films, nb_utilisateurs)) : matrice des parametres de biais.\n",
    "   Y (ndarray (nb_films,nb_utilisateurs)): matrice des évaluations des utilisateurs pour les films\n",
    "   lambda_ (float): paramètre de régularisation\n",
    " Retourne :\n",
    "   L (float): valeur de perte\n",
    "   \"\"\"\n",
    "   l = (tf.linalg.matmul(X, W) + B - Y)\n",
    "   L = 0.5 * tf.reduce_sum(l**2) + (lambda_/2) * (tf.reduce_sum(X**2) + tf.reduce_sum(W**2)+tf.reduce_sum(B**2))\n",
    "   return L"
   ]
  },
  {
   "cell_type": "markdown",
   "id": "bc4421af-403b-454a-959a-4657b4ad05a6",
   "metadata": {},
   "source": [
    "### 2. Descente de gradient. <a id=\"4.2\"></a>"
   ]
  },
  {
   "cell_type": "markdown",
   "id": "6f8a8912-ec9a-4a0e-8641-36a5560d4d4d",
   "metadata": {},
   "source": [
    "#### 2.1 Le modèle initial"
   ]
  },
  {
   "cell_type": "code",
   "execution_count": 146,
   "id": "30473426-e082-41e9-9a20-4117715c5729",
   "metadata": {},
   "outputs": [],
   "source": [
    "opti1 = keras.optimizers.Adam(learning_rate=1e-1)#le taux d'apprentissage Adam"
   ]
  },
  {
   "cell_type": "code",
   "execution_count": 147,
   "id": "bf35ab61-3f90-4dde-ac2a-4e68b1420e13",
   "metadata": {},
   "outputs": [],
   "source": [
    "def suivre_variables_init(X_initial, W_initial):\n",
    "    W = tf.Variable(W_initial, name='W')     # matrice W \n",
    "    X = tf.Variable(X_initial, name='X')     # matrice X \n",
    "    bu = tf.Variable(tf.random.normal((1,          t),   dtype=tf.float64),  name='b_u')\n",
    "    bf = tf.Variable(tf.random.normal((nb_films,          1),   dtype=tf.float64),  name='b_f')\n",
    "    return X, W, bu,bf #4 paramètres à suivre"
   ]
  },
  {
   "cell_type": "code",
   "execution_count": 148,
   "id": "819ade2e-67b8-4c7b-991d-813b99b36db7",
   "metadata": {},
   "outputs": [],
   "source": [
    "X1,W1,b_u1,b_f1 = suivre_variables_init(X_initiale_pca1, W_initiale_pca1)"
   ]
  },
  {
   "cell_type": "code",
   "execution_count": 149,
   "id": "9176cfa8-a25b-4168-b868-6ebe8f3cf0d3",
   "metadata": {},
   "outputs": [
    {
     "name": "stdout",
     "output_type": "stream",
     "text": [
      "La valeur de perte (sans regularisation): 27009652.419\n",
      "La valeur de perte (avec regularisation): 27065546.497\n"
     ]
    }
   ],
   "source": [
    "Perte=FonctionPerte_Init(W_initiale_pca1,X_initiale_pca1,b_u1,b_f1,newY,0,new_mu)\n",
    "PerteRegul=FonctionPerte_Init(W_initiale_pca1,X_initiale_pca1,b_u1,b_f1,newY,1,new_mu)\n",
    "print(f\"La valeur de perte (sans regularisation): {Perte:0.3f}\")\n",
    "print(f\"La valeur de perte (avec regularisation): {PerteRegul:0.3f}\")"
   ]
  },
  {
   "cell_type": "code",
   "execution_count": 150,
   "id": "c3fa08a4-7035-49b0-8460-4c1b81cffc57",
   "metadata": {},
   "outputs": [],
   "source": [
    "def GD_modele_init(W,X,b_u,b_f,Y,lambda_,iterations,taux_apprenti,mu): #Gradient descent pour le modèle initial\n",
    " for iter in range(iterations):\n",
    "    # Enregistrer les opérations utilisées pour calculer la perte\n",
    "    with tf.GradientTape() as tape:\n",
    "\n",
    "        # Calculer la fonction de perte\n",
    "        valeur_perte = FonctionPerte_Init(W,X,b_u,b_f,Y,lambda_,mu)\n",
    "\n",
    "    # Récupérer automatiquement les gradients des variables entraînables par rapport à la perte\n",
    "    grads = tape.gradient(valeur_perte, [X, W,b_u,b_f])\n",
    "\n",
    "    # Exécuter une étape de descente de gradient en mettant à jour la valeur des variables pour minimiser la perte\n",
    "    taux_apprenti.apply_gradients(zip(grads, [X, W,b_u,b_f]))\n",
    "    \n",
    "    #journaliser périodiquement.\n",
    "    if iter % 100 == 0: # Imprimer les valeurs de 0 à 400 inclus.\n",
    "        print(f\"Perte d'entraînement à l'itération {iter}: {valeur_perte:0.2f}\")\n",
    " if iter % 100 != 0:  # Imprimer le dernier boucle\n",
    "   print(f\"Perte d'entraînement à l'itération {iter}: {valeur_perte:0.2f}\")\n",
    " return [X, W,b_u,b_f,valeur_perte]"
   ]
  },
  {
   "cell_type": "code",
   "execution_count": 151,
   "id": "c5ccb31a-e8ea-4175-a3f6-7ce55538baf2",
   "metadata": {},
   "outputs": [
    {
     "name": "stdout",
     "output_type": "stream",
     "text": [
      "Perte d'entraînement à l'itération 0: 27065546.50\n",
      "Perte d'entraînement à l'itération 100: 443083.39\n",
      "Perte d'entraînement à l'itération 200: 404055.83\n",
      "Perte d'entraînement à l'itération 300: 388510.07\n",
      "Perte d'entraînement à l'itération 400: 384118.75\n",
      "Perte d'entraînement à l'itération 499: 382681.14\n"
     ]
    }
   ],
   "source": [
    "[X1,W1,b_u1,b_f1,valeur_perte1]= GD_modele_init(W1,X1,b_u1,b_f1,newY,1,500,opti1,new_mu)"
   ]
  },
  {
   "cell_type": "markdown",
   "id": "4eefb91f-455a-4048-b267-4888829bd973",
   "metadata": {},
   "source": [
    "On remarque qu'entre les itérations 400 et 500, ***la perte ne diminue pas de manière significative. On peut envisager de fixer le nombre d'itérations à 400 ou 500***."
   ]
  },
  {
   "cell_type": "markdown",
   "id": "c38cd99f-c2e2-42be-9638-53a7778b8185",
   "metadata": {},
   "source": [
    "#### 2.2 L'ajustement du modèle"
   ]
  },
  {
   "cell_type": "code",
   "execution_count": 152,
   "id": "d74acd8d-eee1-4ea0-9bae-15760b6566ad",
   "metadata": {},
   "outputs": [],
   "source": [
    "opti2 = keras.optimizers.Adam(learning_rate=1e-1) #le taux d'apprentissage Adam"
   ]
  },
  {
   "cell_type": "code",
   "execution_count": 153,
   "id": "385f1a5e-f74b-4b89-839f-3ca1a51fb3e7",
   "metadata": {},
   "outputs": [],
   "source": [
    "def suivre_variables_ajust(X_initial, W_initial):\n",
    "    W = tf.Variable(W_initial, name='W')     \n",
    "    X = tf.Variable(X_initial, name='X')   \n",
    "    B = tf.Variable(tf.random.normal((nb_films,          t),   dtype=tf.float64),  name='B') #initialiser aleatoirement\n",
    "    return X, W, B # 3 paramètres à suivre"
   ]
  },
  {
   "cell_type": "code",
   "execution_count": 154,
   "id": "3311228a-a262-4030-a2cc-8481571a6eae",
   "metadata": {},
   "outputs": [],
   "source": [
    "X2,W2,B2 = suivre_variables_ajust(X_initiale_pca1, W_initiale_pca1)"
   ]
  },
  {
   "cell_type": "code",
   "execution_count": 155,
   "id": "02338b2a-e696-4a6f-8511-04fe5804aafb",
   "metadata": {},
   "outputs": [
    {
     "name": "stdout",
     "output_type": "stream",
     "text": [
      "La Perte (sans regularisation): 24630226.096\n",
      "La Perte (avec regularisation): 26892487.885\n"
     ]
    }
   ],
   "source": [
    "Perte=FonctionPerte_Ajust(W_initiale_pca1,X_initiale_pca1,B2,newY,0,new_mu)\n",
    "PerteRegul=FonctionPerte_Ajust(W_initiale_pca1,X_initiale_pca1,B2,newY,1,new_mu)\n",
    "print(f\"La Perte (sans regularisation): {Perte:0.3f}\")\n",
    "print(f\"La Perte (avec regularisation): {PerteRegul:0.3f}\")"
   ]
  },
  {
   "cell_type": "code",
   "execution_count": 156,
   "id": "b62fc109-92e5-4de4-9303-0986c245445d",
   "metadata": {},
   "outputs": [],
   "source": [
    "def GD_modele_ajust(W,X,B,Y,lambda_,iterations,taux_apprenti,mu):\n",
    " for iter in range(iterations):\n",
    "    # Enregistrer les opérations utilisées pour calculer la perte\n",
    "    with tf.GradientTape() as tape:\n",
    "\n",
    "        # Calculer la perte\n",
    "        valeur_perte = FonctionPerte_Ajust(W,X,B,Y,lambda_,mu)\n",
    "\n",
    "    # Récupérer automatiquement les gradients des variables entraînables par rapport à la perte\n",
    "    grads = tape.gradient(valeur_perte, [X, W,B])\n",
    "\n",
    "    # Exécuter une étape de descente de gradient en mettant à jour la valeur des variables pour minimiser la perte\n",
    "    taux_apprenti.apply_gradients(zip(grads, [X, W,B]))\n",
    "    \n",
    "    #journaliser périodiquement.\n",
    "    if iter % 100 == 0: # Imprimer les valeurs de 0 à 400 inclus.\n",
    "        print(f\"Perte d'entraînement à l'itération {iter}: {valeur_perte:0.2f}\")\n",
    " if iter % 100 != 0:  # Imprimer le dernier boucle\n",
    "   print(f\"Perte d'entraînement à l'itération {iter}: {valeur_perte:0.2f}\")\n",
    " return [X, W,B,valeur_perte]"
   ]
  },
  {
   "cell_type": "code",
   "execution_count": 157,
   "id": "25b13a88-5bab-4c89-9827-496eb94e0ef3",
   "metadata": {},
   "outputs": [
    {
     "name": "stdout",
     "output_type": "stream",
     "text": [
      "Perte d'entraînement à l'itération 0: 26892487.88\n",
      "Perte d'entraînement à l'itération 100: 243397.03\n",
      "Perte d'entraînement à l'itération 200: 215522.45\n",
      "Perte d'entraînement à l'itération 300: 204908.08\n",
      "Perte d'entraînement à l'itération 400: 197869.01\n",
      "Perte d'entraînement à l'itération 499: 195186.44\n"
     ]
    }
   ],
   "source": [
    "[X2,W2,B2,valeur_perte2]= GD_modele_ajust(W2,X2,B2,newY,1,500,opti2,new_mu)"
   ]
  },
  {
   "cell_type": "markdown",
   "id": "c8207796-b030-43eb-b026-29012825b680",
   "metadata": {},
   "source": [
    "#### 2.3 Des ajustements supplémentaires du modèle\n",
    "##### l'Approche 1.A peut pas PCA"
   ]
  },
  {
   "cell_type": "markdown",
   "id": "63c11d59-564f-4b35-a034-511ef0207128",
   "metadata": {},
   "source": [
    "##### l'Approche 1.B"
   ]
  },
  {
   "cell_type": "code",
   "execution_count": 158,
   "id": "767f7b3e-757f-40b4-a7b5-c6c41a0bf867",
   "metadata": {},
   "outputs": [],
   "source": [
    "opti4 = keras.optimizers.Adam(learning_rate=1e-1) #le taux d'apprentissage Adam"
   ]
  },
  {
   "cell_type": "code",
   "execution_count": 159,
   "id": "d4e81e85-8d27-46ac-ba71-8fa8c29cd417",
   "metadata": {},
   "outputs": [],
   "source": [
    "def suivre_variables_1B(X_initial, W_initial):\n",
    "    W4 = tf.Variable(W_initial, name='W')     \n",
    "    X4 = tf.Variable(X_initial, name='X')     \n",
    "    b_u4 = tf.Variable(tf.random.normal((1,          v),   dtype=tf.float64),  name='b_u') #initialiser aleatoirement\n",
    "    b_f4 = tf.Variable(tf.random.normal((nb_films,          1),   dtype=tf.float64),  name='b_f') #initialiser aleatoirement\n",
    "    return X4, W4, b_u4, b_f4"
   ]
  },
  {
   "cell_type": "code",
   "execution_count": 160,
   "id": "ee694a2e-5a48-464d-80be-43e876d72084",
   "metadata": {},
   "outputs": [],
   "source": [
    "X4, W4,b_u4,b_f4 = suivre_variables_1B(X_initiale_pca2, W_initiale_pca2)"
   ]
  },
  {
   "cell_type": "code",
   "execution_count": 161,
   "id": "47c590b5-e274-4f35-b976-2049cd375fdb",
   "metadata": {},
   "outputs": [],
   "source": [
    "def GD_modele_Sup1(W,X,b_u,b_f,Y,lambda_,iterations,taux_apprenti):\n",
    " for iter in range(iterations):\n",
    "    # Enregistrer les opérations utilisées pour calculer la Perte\n",
    "    with tf.GradientTape() as tape:\n",
    "\n",
    "        # Calculer la Perte \n",
    "        valeur_perte = FonctionPerte_Sup1(W, X, b_u,b_f, Y, lambda_)\n",
    "\n",
    "    # Récupérer automatiquement les gradients des variables entraînables par rapport à la perte\n",
    "    grads = tape.gradient(valeur_perte, [X, W,b_u,b_f])\n",
    "\n",
    "    # Exécuter une étape de descente de gradient en mettant à jour la valeur des variables pour minimiser la perte\n",
    "    taux_apprenti.apply_gradients(zip(grads, [X, W,b_u,b_f]))\n",
    "    \n",
    "    #journaliser périodiquement.\n",
    "    if iter % 100 == 0: # Imprimer les valeurs de 0 à 400 inclus.\n",
    "        print(f\"Perte d'entraînement à l'itération {iter}: {valeur_perte:0.2f}\")\n",
    " if iter % 100 != 0:  # Imprimer le dernier boucle:\n",
    "   print(f\"Perte d'entraînement à l'itération {iter}: {valeur_perte:0.2f}\")\n",
    " return [X, W,b_u,b_f,valeur_perte]"
   ]
  },
  {
   "cell_type": "code",
   "execution_count": 162,
   "id": "58b7bd80-4825-4198-ad13-47727cd096c7",
   "metadata": {},
   "outputs": [
    {
     "name": "stdout",
     "output_type": "stream",
     "text": [
      "La Perte (sans regularisation): 27393350.682\n",
      "La Perte (avec regularisation): 27449122.467\n"
     ]
    }
   ],
   "source": [
    "Perte=FonctionPerte_Sup1(W_initiale_pca2,X_initiale_pca2,b_u4,b_f4,newYnorm,0)\n",
    "PerteRegul=FonctionPerte_Sup1(W_initiale_pca2,X_initiale_pca2,b_u4,b_f4,newYnorm,1)\n",
    "print(f\"La Perte (sans regularisation): {Perte:0.3f}\")\n",
    "print(f\"La Perte (avec regularisation): {PerteRegul:0.3f}\")"
   ]
  },
  {
   "cell_type": "code",
   "execution_count": 163,
   "id": "3e5c10e1-7ca9-47c6-9dab-a9cc2e674af6",
   "metadata": {},
   "outputs": [
    {
     "name": "stdout",
     "output_type": "stream",
     "text": [
      "Perte d'entraînement à l'itération 0: 27449122.47\n",
      "Perte d'entraînement à l'itération 100: 37902.92\n",
      "Perte d'entraînement à l'itération 200: 36562.23\n",
      "Perte d'entraînement à l'itération 300: 35054.30\n",
      "Perte d'entraînement à l'itération 400: 33641.91\n",
      "Perte d'entraînement à l'itération 499: 32398.32\n"
     ]
    }
   ],
   "source": [
    "[X4, W4,b_u4,b_f4,valeur_perte4]= GD_modele_Sup1(W4,X4,b_u4,b_f4,newYnorm,1,500,opti4)"
   ]
  },
  {
   "cell_type": "markdown",
   "id": "6e158465-e462-46bc-a1ac-f003805c1676",
   "metadata": {},
   "source": [
    "##### l'Approche 2.A"
   ]
  },
  {
   "cell_type": "code",
   "execution_count": 164,
   "id": "4424164d-74e9-426a-b1eb-b7b908dd0a48",
   "metadata": {},
   "outputs": [],
   "source": [
    "opti5 = keras.optimizers.Adam(learning_rate=1e-1) #le taux d'apprentissage Adam"
   ]
  },
  {
   "cell_type": "code",
   "execution_count": 165,
   "id": "0b92aa06-0dd9-4387-a1d2-f899e97ee377",
   "metadata": {},
   "outputs": [],
   "source": [
    "def suivre_variables_2A(X_initial, W_initial, B):\n",
    "    W5 = tf.Variable(W_initial, name='W')   \n",
    "    X5 = tf.Variable(X_initial, name='X')  \n",
    "    B5 = tf.Variable(B, name='B') # valeur pré-calculée à suivre\n",
    "    return X5, W5, B5"
   ]
  },
  {
   "cell_type": "code",
   "execution_count": 166,
   "id": "6740b9c3-fdfb-4fff-9776-a95121a3e9e2",
   "metadata": {},
   "outputs": [],
   "source": [
    "X5, W5,B5 = suivre_variables_2A(X_initiale_pca2, W_initiale_pca2, newB)"
   ]
  },
  {
   "cell_type": "code",
   "execution_count": 167,
   "id": "5852a306-2b49-41be-8308-c1e58587d24c",
   "metadata": {},
   "outputs": [
    {
     "name": "stdout",
     "output_type": "stream",
     "text": [
      "La Perte (sans regularisation): 25366836.691\n",
      "La Perte (avec regularisation): 28026300.744\n"
     ]
    }
   ],
   "source": [
    "Perte=FonctionPerte_Sup2(W_initiale_pca2,X_initiale_pca2,B5,newYnorm,0)\n",
    "PerteRegul=FonctionPerte_Sup2(W_initiale_pca2,X_initiale_pca2,B5,newYnorm,1)\n",
    "print(f\"La Perte (sans regularisation): {Perte:0.3f}\")\n",
    "print(f\"La Perte (avec regularisation): {PerteRegul:0.3f}\")"
   ]
  },
  {
   "cell_type": "code",
   "execution_count": 168,
   "id": "63830bfc-b42c-4221-9baf-9f2d4f55e6f1",
   "metadata": {},
   "outputs": [],
   "source": [
    "def GD_modele_Sup2(W,X,B,Y,lambda_,iterations,taux_apprenti):\n",
    " for iter in range(iterations):\n",
    "    # Enregistrer les opérations utilisées pour calculer la perte\n",
    "    with tf.GradientTape() as tape:\n",
    "\n",
    "        # Calculer la perte\n",
    "        valeur_perte = FonctionPerte_Sup2(W, X, B, Y, lambda_)\n",
    "\n",
    "    # Récupérer automatiquement les gradients des variables entraînables par rapport à la perte\n",
    "    grads = tape.gradient(valeur_perte, [X, W,B])\n",
    "\n",
    "    # Exécuter une étape de descente de gradient en mettant à jour la valeur des variables pour minimiser la perte\n",
    "    taux_apprenti.apply_gradients(zip(grads, [X, W,B]))\n",
    "    \n",
    "    #journaliser périodiquement.\n",
    "    if iter % 100 == 0: # Imprimer les valeurs de 0 à 400 inclus.\n",
    "        print(f\"Perte d'entraînement à l'itération {iter}: {valeur_perte:0.2f}\")\n",
    " if iter % 100 != 0:  # Imprimer le dernier boucle\n",
    "   print(f\"Perte d'entraînement à l'itération {iter}: {valeur_perte:0.2f}\")\n",
    " return [X, W, B,valeur_perte]"
   ]
  },
  {
   "cell_type": "code",
   "execution_count": 169,
   "id": "95b4215e-92e7-411c-b3c7-9906d542e067",
   "metadata": {},
   "outputs": [
    {
     "name": "stdout",
     "output_type": "stream",
     "text": [
      "Perte d'entraînement à l'itération 0: 28026300.74\n",
      "Perte d'entraînement à l'itération 100: 1344934.17\n",
      "Perte d'entraînement à l'itération 200: 815377.28\n",
      "Perte d'entraînement à l'itération 300: 491687.80\n",
      "Perte d'entraînement à l'itération 400: 297975.25\n",
      "Perte d'entraînement à l'itération 499: 183192.38\n"
     ]
    }
   ],
   "source": [
    "[X5, W5,B5,valeur_perte5]= GD_modele_Sup2(W5,X5,B5,newYnorm,1,500,opti5)"
   ]
  },
  {
   "cell_type": "markdown",
   "id": "11d02bab-bd1c-4bd7-8882-93caa7006d09",
   "metadata": {},
   "source": [
    "##### l'Approche 2.B"
   ]
  },
  {
   "cell_type": "code",
   "execution_count": 170,
   "id": "6b3a79ac-d19a-4e56-bce9-bf4dde8a0a56",
   "metadata": {},
   "outputs": [],
   "source": [
    "opti6 = keras.optimizers.Adam(learning_rate=1e-1) #le taux d'apprentissage Adam"
   ]
  },
  {
   "cell_type": "code",
   "execution_count": 171,
   "id": "fff0f8a6-2723-4850-ae30-d81998cfd729",
   "metadata": {},
   "outputs": [],
   "source": [
    "def suivre_variables_2B(X_initial, W_initial):\n",
    "    W6 = tf.Variable(W_initial, name='W')     \n",
    "    X6 = tf.Variable(X_initial, name='X')    \n",
    "    B6 = tf.Variable(tf.random.normal((nb_films,          v),   dtype=tf.float64),  name='B') #initialiser aleatoirement\n",
    "    return X6, W6, B6"
   ]
  },
  {
   "cell_type": "code",
   "execution_count": 172,
   "id": "b940ab51-a61b-4e32-9f5c-ec0aaa5312a2",
   "metadata": {},
   "outputs": [],
   "source": [
    "X6, W6,B6 = suivre_variables_2B(X_initiale_pca2, W_initiale_pca2)"
   ]
  },
  {
   "cell_type": "code",
   "execution_count": 173,
   "id": "1bba5951-5265-461e-8798-4e38ca8d6ee4",
   "metadata": {},
   "outputs": [
    {
     "name": "stdout",
     "output_type": "stream",
     "text": [
      "La Perte (sans regularisation): 25060548.999\n",
      "La Perte (avec regularisation): 27418461.129\n"
     ]
    }
   ],
   "source": [
    "Perte=FonctionPerte_Sup2(W_initiale_pca2,X_initiale_pca2,B6,newYnorm,0)\n",
    "PerteRegul=FonctionPerte_Sup2(W_initiale_pca2,X_initiale_pca2,B6,newYnorm,1)\n",
    "print(f\"La Perte (sans regularisation): {Perte:0.3f}\")\n",
    "print(f\"La Perte (avec regularisation): {PerteRegul:0.3f}\")"
   ]
  },
  {
   "cell_type": "code",
   "execution_count": 174,
   "id": "27d33f7e-0bfe-4d8d-be11-aefabf9e3c1b",
   "metadata": {},
   "outputs": [
    {
     "name": "stdout",
     "output_type": "stream",
     "text": [
      "Perte d'entraînement à l'itération 0: 27418461.13\n",
      "Perte d'entraînement à l'itération 100: 22975.33\n",
      "Perte d'entraînement à l'itération 200: 19795.82\n",
      "Perte d'entraînement à l'itération 300: 19103.76\n",
      "Perte d'entraînement à l'itération 400: 18348.52\n",
      "Perte d'entraînement à l'itération 499: 17797.85\n"
     ]
    }
   ],
   "source": [
    "[X6, W6,B6,valeur_perte6]= GD_modele_Sup2(W6,X6,B6,newYnorm,1,500,opti6)"
   ]
  },
  {
   "cell_type": "markdown",
   "id": "8d036e48-375e-4ea1-b662-458bbefdb4f7",
   "metadata": {},
   "source": [
    "#### 2.3 Comparaison entre la valeur de perte entre des modèles."
   ]
  },
  {
   "cell_type": "code",
   "execution_count": 175,
   "id": "619c6b81-8310-4537-9476-5608af72b5a8",
   "metadata": {},
   "outputs": [
    {
     "name": "stdout",
     "output_type": "stream",
     "text": [
      "La valeur obtenue après l'entraînement du modèle initial   : 382681.141\n",
      "La valeur obtenue après l'entraînement de l'ajustement du modèle   : 195186.445\n",
      "La valeur obtenue après l'entraînement de l'ajustement supplémentaire du modèle (1B)   : 32398.323\n",
      "La valeur obtenue après l'entraînement de l'ajustement supplémentaire du modèle (2A)   : 183192.377\n",
      "La valeur obtenue après l'entraînement de l'ajustement supplémentaire du modèle (2B)   : 17797.854\n"
     ]
    }
   ],
   "source": [
    "print(f\"La valeur obtenue après l'entraînement du modèle initial   : {valeur_perte1:0.3f}\")\n",
    "print(f\"La valeur obtenue après l'entraînement de l'ajustement du modèle   : {valeur_perte2:0.3f}\")\n",
    "print(f\"La valeur obtenue après l'entraînement de l'ajustement supplémentaire du modèle (1B)   : {valeur_perte4:0.3f}\")\n",
    "print(f\"La valeur obtenue après l'entraînement de l'ajustement supplémentaire du modèle (2A)   : {valeur_perte5:0.3f}\")\n",
    "print(f\"La valeur obtenue après l'entraînement de l'ajustement supplémentaire du modèle (2B)   : {valeur_perte6:0.3f}\")"
   ]
  },
  {
   "cell_type": "markdown",
   "id": "f3b0f18d-4f12-4156-8936-389cfe77adcb",
   "metadata": {},
   "source": [
    "## Évaluation <a id=\"5\"></a>"
   ]
  },
  {
   "cell_type": "markdown",
   "id": "6cd307b5-e41d-459d-ba4c-794d940710a1",
   "metadata": {},
   "source": [
    "### Évaluation des modèles"
   ]
  },
  {
   "cell_type": "code",
   "execution_count": 176,
   "id": "ab7b9ae9-48de-4a1f-b656-49015c402108",
   "metadata": {},
   "outputs": [],
   "source": [
    "new_p1=tf.linalg.matmul(X1, W1)+b_u1+b_f1+new_mu \n",
    "p1 = np.dot(new_p1,matrice_projectionY.T)\n",
    "predict1 = p1"
   ]
  },
  {
   "cell_type": "code",
   "execution_count": 177,
   "id": "2da92998-2cb1-4895-9bf1-c3dd7191ccef",
   "metadata": {},
   "outputs": [],
   "source": [
    "new_p2=tf.linalg.matmul(X2, W2)+B2+new_mu \n",
    "p2 = np.dot(new_p2,matrice_projectionY.T)\n",
    "predict2 = p2"
   ]
  },
  {
   "cell_type": "code",
   "execution_count": 178,
   "id": "c619f5f4",
   "metadata": {},
   "outputs": [],
   "source": [
    "new_p4=tf.linalg.matmul(X4, W4)+b_u4+b_f4 \n",
    "p4 = np.dot(new_p4,matrice_projectionYnorm.T)\n",
    "p4moy = p4 + Ymean\n",
    "predict4 = p4moy"
   ]
  },
  {
   "cell_type": "code",
   "execution_count": 179,
   "id": "1d14a9d1-d0f3-4c72-acc0-f7d2b543f2cd",
   "metadata": {},
   "outputs": [],
   "source": [
    "new_p5=tf.linalg.matmul(X5, W5)+B5 \n",
    "p5 = np.dot(new_p5,matrice_projectionYnorm.T)\n",
    "p5moy = p5 + Ymean\n",
    "predict5= p5moy"
   ]
  },
  {
   "cell_type": "code",
   "execution_count": 180,
   "id": "f01bb596-51bd-4eb8-b8ab-759b00ac1766",
   "metadata": {},
   "outputs": [],
   "source": [
    "new_p6=tf.linalg.matmul(X6, W6)+B6 \n",
    "p6 = np.dot(new_p6,matrice_projectionYnorm.T)\n",
    "p6moy = p6 + Ymean\n",
    "predict6 = p6moy"
   ]
  },
  {
   "cell_type": "code",
   "execution_count": 181,
   "id": "1ff81783-c0b2-4742-8291-2f7d97505b75",
   "metadata": {},
   "outputs": [],
   "source": [
    "nb_evaluation = R.sum() #nb evaluation"
   ]
  },
  {
   "cell_type": "markdown",
   "id": "4bd8ae20-fe4d-4b5c-adec-5aa2185f9f32",
   "metadata": {},
   "source": [
    "#### RMSE"
   ]
  },
  {
   "cell_type": "code",
   "execution_count": 182,
   "id": "073e6551-baf4-404c-a947-3029a2dddf6f",
   "metadata": {},
   "outputs": [
    {
     "name": "stdout",
     "output_type": "stream",
     "text": [
      "La moyenne de toutes les notes attribuées (globale) : 3.501527080895623\n",
      "\n",
      "1.RMSE du modèle initial:  2.547614512485751\n",
      "2.RMSE de l'ajustement du modèle:  1.4092029306114315\n",
      "4.RMSE de l'ajustement supplémentaire du modèle (1B):  0.7963818233143848\n",
      "5.RMSE de l'ajustement supplémentaire du modèle (2A):  0.447588443810088\n",
      "6.RMSE de l'ajustement supplémentaire du modèle (2B):  0.4496798849788421 \n",
      "\n",
      "La proportion de RMSE 1 par rapport à la note moyenne globale: 72.757 %\n",
      "La proportion de RMSE 2 par rapport à la note moyenne globale: 40.245 %\n",
      "La proportion de RMSE 4 par rapport à la note moyenne globale: 22.744 %\n",
      "La proportion de RMSE 5 par rapport à la note moyenne globale: 12.783 %\n",
      "La proportion de RMSE 6 par rapport à la note moyenne globale: 12.842 %\n"
     ]
    }
   ],
   "source": [
    "rmse1 = np.sqrt(np.sum((predict1 - Y)** 2 *R) / nb_evaluation)\n",
    "rmse2 = np.sqrt(np.sum((predict2 - Y)** 2 *R) / nb_evaluation)\n",
    "rmse4 = np.sqrt(np.sum((predict4 - Y)** 2 *R) / nb_evaluation)\n",
    "rmse5 = np.sqrt(np.sum((predict5 - Y)** 2 *R) / nb_evaluation)\n",
    "rmse6 = np.sqrt(np.sum((predict6 - Y)** 2 *R) / nb_evaluation)\n",
    "print(f\"La moyenne de toutes les notes attribuées (globale) : {mu}\\n\")\n",
    "print(\"1.RMSE du modèle initial: \",rmse1)\n",
    "print(\"2.RMSE de l'ajustement du modèle: \",rmse2)\n",
    "print(\"4.RMSE de l'ajustement supplémentaire du modèle (1B): \",rmse4)\n",
    "print(\"5.RMSE de l'ajustement supplémentaire du modèle (2A): \",rmse5)\n",
    "print(\"6.RMSE de l'ajustement supplémentaire du modèle (2B): \",rmse6,\"\\n\")\n",
    "print(f\"La proportion de RMSE 1 par rapport à la note moyenne globale: {(rmse1/mu)*100:0.3f} %\" )\n",
    "print(f\"La proportion de RMSE 2 par rapport à la note moyenne globale: {(rmse2/mu)*100:0.3f} %\" )\n",
    "print(f\"La proportion de RMSE 4 par rapport à la note moyenne globale: {(rmse4/mu)*100:0.3f} %\" )\n",
    "print(f\"La proportion de RMSE 5 par rapport à la note moyenne globale: {(rmse5/mu)*100:0.3f} %\" )\n",
    "print(f\"La proportion de RMSE 6 par rapport à la note moyenne globale: {(rmse6/mu)*100:0.3f} %\" )\n",
    "#dans le but de compararer avec les modeles utilisant PCA\n",
    "cv_rmse5 = (rmse5/mu)*100\n",
    "cv_rmse6 = (rmse6/mu)*100"
   ]
  },
  {
   "cell_type": "code",
   "execution_count": 183,
   "id": "927cd1aa-ad44-47da-b4e9-cbbbe881db1b",
   "metadata": {},
   "outputs": [
    {
     "data": {
      "image/png": "[encoded data removed]",
      "text/plain": [
       "<Figure size 1000x500 with 1 Axes>"
      ]
     },
     "metadata": {},
     "output_type": "display_data"
    }
   ],
   "source": [
    "import matplotlib.pyplot as plt\n",
    "\n",
    "rmse_values = [rmse1, rmse2, rmse4, rmse5, rmse6]\n",
    "\n",
    "labels = [\n",
    "    \"Initial Model\",\n",
    "    \"Model Adjustment\",\n",
    "    \"Additional Adjustment (1B)\",\n",
    "    \"Additional Adjustment (2A)\",\n",
    "    \"Additional Adjustment (2B)\"\n",
    "]\n",
    "\n",
    "# minimum RMSE\n",
    "min_rmse_index = rmse_values.index(min(rmse_values))\n",
    "\n",
    "fig, ax = plt.subplots(figsize=(10, 5))\n",
    "\n",
    "# Graphique RMSE\n",
    "bars = ax.bar(labels, rmse_values, color=\"blue\", alpha=0.7)\n",
    "\n",
    "# Changer la couleur de la barre avec la valeur minimale\n",
    "bars[min_rmse_index].set_color(\"red\")  # Changer la couleur de la barre avec le RMSE minimum\n",
    "\n",
    "ax.set_xticks(range(len(labels)))  \n",
    "ax.set_xticklabels(labels, rotation=25, ha=\"right\", fontsize=12)\n",
    "\n",
    "for i, z in enumerate(rmse_values):\n",
    "    ax.text(i, z + 0.2, f\"{z:.4f}\", ha='center', fontsize=12)\n",
    "\n",
    "ax.set_ylim(0, max(rmse_values) * 1.3)  # Agrandir l'axe Y de 20 % par rapport à la valeur maximale\n",
    "# legend\n",
    "ax.text(3.8, max(mae_values) * 1.1, f\"$\\\\mu$ = {mu:.3f}\", ha='left', fontsize=12, bbox=dict(facecolor='white', edgecolor='black', boxstyle='round,pad=0.5'))\n",
    "\n",
    "\n",
    "# Titre et labels\n",
    "ax.set_title(\"Comparison of RMSE Values - PCA\",fontsize= 14)\n",
    "ax.set_ylabel(\"RMSE value\",fontsize= 11)\n",
    "\n",
    "# Ajuster la mise en page\n",
    "plt.subplots_adjust(bottom=0.5)\n",
    "plt.savefig(\"Image/RMSE_barplot_pca.png\", dpi=300, bbox_inches='tight')\n",
    "plt.show()"
   ]
  },
  {
   "cell_type": "markdown",
   "id": "c65c3609-c8a5-483b-8e43-e7b2b9dc61d5",
   "metadata": {},
   "source": [
    "#### MAE"
   ]
  },
  {
   "cell_type": "code",
   "execution_count": 184,
   "id": "238966b7-9c04-4d81-ad7f-fed653aa3646",
   "metadata": {},
   "outputs": [
    {
     "name": "stdout",
     "output_type": "stream",
     "text": [
      "La moyenne de toutes les notes attribuées (globale) : 3.501527080895623\n",
      "\n",
      "1.MAE du modèle initial: 2.239974031585348\n",
      "2.MAE de l'ajustement du modèle: 1.2401551067516916\n",
      "4.MAE de l'ajustement supplémentaire du modèle (1B): 0.5998733506250075\n",
      "5.MAE de l'ajustement supplémentaire du modèle (2A): 0.33564572049632435\n",
      "6.MAE de l'ajustement supplémentaire du modèle (2B): 0.33756626210025903 \n",
      "\n",
      "La proportion de MAE 1 par rapport à la note moyenne globale.: 63.971 %\n",
      "La proportion de MAE 2 par rapport à la note moyenne globale.: 35.418 %\n",
      "La proportion de MAE 4 par rapport à la note moyenne globale.: 17.132 %\n",
      "La proportion de MAE 4 par rapport à la note moyenne globale.: 9.586 %\n",
      "La proportion de MAE 6 par rapport à la note moyenne globale.: 9.641 %\n"
     ]
    }
   ],
   "source": [
    "mae1 = np.sum(np.abs((predict1 - Y) * R)) / nb_evaluation\n",
    "mae2 = np.sum(np.abs((predict2 - Y) * R)) / nb_evaluation\n",
    "mae4 = np.sum(np.abs((predict4 - Y) * R)) / nb_evaluation\n",
    "mae5 = np.sum(np.abs((predict5 - Y) * R)) / nb_evaluation\n",
    "mae6 = np.sum(np.abs((predict6 - Y) * R)) / nb_evaluation\n",
    "print(f\"La moyenne de toutes les notes attribuées (globale) : {mu}\\n\")\n",
    "print(\"1.MAE du modèle initial:\", mae1)\n",
    "print(\"2.MAE de l'ajustement du modèle:\", mae2)\n",
    "print(\"4.MAE de l'ajustement supplémentaire du modèle (1B):\", mae4)\n",
    "print(\"5.MAE de l'ajustement supplémentaire du modèle (2A):\", mae5)\n",
    "print(\"6.MAE de l'ajustement supplémentaire du modèle (2B):\", mae6,\"\\n\")\n",
    "print(f\"La proportion de MAE 1 par rapport à la note moyenne globale.: {(mae1/mu)*100:0.3f} %\" )\n",
    "print(f\"La proportion de MAE 2 par rapport à la note moyenne globale.: {(mae2/mu)*100:0.3f} %\" )\n",
    "print(f\"La proportion de MAE 4 par rapport à la note moyenne globale.: {(mae4/mu)*100:0.3f} %\" )\n",
    "print(f\"La proportion de MAE 4 par rapport à la note moyenne globale.: {(mae5/mu)*100:0.3f} %\" )\n",
    "print(f\"La proportion de MAE 6 par rapport à la note moyenne globale.: {(mae6/mu)*100:0.3f} %\" )\n",
    "#dans le but de compararer avec les modeles utilisant PCA\n",
    "cv_mae5 = (mae5/mu)*100\n",
    "cv_mae6 = (mae6/mu)*100 "
   ]
  },
  {
   "cell_type": "code",
   "execution_count": 185,
   "id": "7877f307-747f-4e0b-a442-072587b49cd3",
   "metadata": {},
   "outputs": [
    {
     "data": {
      "image/png": "[encoded data removed]",
      "text/plain": [
       "<Figure size 1000x500 with 1 Axes>"
      ]
     },
     "metadata": {},
     "output_type": "display_data"
    }
   ],
   "source": [
    "mae_values = [mae1, mae2, mae4, mae5, mae6]\n",
    "\n",
    "labels = [\n",
    "    \"Initial Model\",\n",
    "    \"Model Adjustment\",\n",
    "    \"Additional Adjustment (1B)\",\n",
    "    \"Additional Adjustment (2A)\",\n",
    "    \"Additional Adjustment (2B)\"\n",
    "]\n",
    "\n",
    "#  minimum MAE\n",
    "min_mae_index = mae_values.index(min(mae_values))\n",
    "\n",
    "# la figure et des axes\n",
    "fig, ax = plt.subplots(figsize=(10, 5))\n",
    "\n",
    "# Graphique MAE\n",
    "bars = ax.bar(labels, mae_values, color=\"blue\", alpha=0.7)\n",
    "\n",
    "# Changer la couleur de la barre avec la valeur minimale\n",
    "bars[min_mae_index].set_color(\"red\")  # Changer la couleur de la barre avec le MAE minimum\n",
    "\n",
    "ax.set_xticks(range(len(labels)))  \n",
    "ax.set_xticklabels(labels, rotation=25, ha=\"right\", fontsize=12)\n",
    "\n",
    "for i, z in enumerate(mae_values):\n",
    "    ax.text(i, z + 0.2, f\"{z:.4f}\", ha='center', fontsize=12)\n",
    "\n",
    "ax.set_ylim(0, max(mae_values) * 1.3) # Agrandir l'axe Y de 20 % par rapport à la valeur maximale\n",
    "\n",
    "# legend\n",
    "ax.text(3.8, max(mae_values) * 1.1, f\"$\\\\mu$ = {mu:.3f}\", ha='left', fontsize=12, bbox=dict(facecolor='white', edgecolor='black', boxstyle='round,pad=0.5'))\n",
    "\n",
    "ax.set_title(\"Comparison of MAE Values - PCA\",fontsize= 14)\n",
    "ax.set_ylabel(\"MAE value\",fontsize= 11)\n",
    "\n",
    "plt.subplots_adjust(bottom=0.5)\n",
    "plt.savefig(\"Image/MAE_barplot_pca.png\", dpi=300, bbox_inches='tight')\n",
    "plt.show()"
   ]
  },
  {
   "cell_type": "markdown",
   "id": "d8b7cf7e-a095-4689-8694-692aa5a9cf66",
   "metadata": {},
   "source": [
    "#### Pearson product-moment Correlation Coefficient (PCC)"
   ]
  },
  {
   "cell_type": "code",
   "execution_count": 186,
   "id": "25cfbbd9-76ed-4d72-8452-c3a16f7cd222",
   "metadata": {},
   "outputs": [
    {
     "name": "stdout",
     "output_type": "stream",
     "text": [
      "La moyenne de Ymean : 3.2624895815718498\n",
      "\n",
      "La moyenne de toutes les notes prédites (du modèle initial) : 1.340028120093739\n",
      "La moyenne de toutes les notes prédites (de l'ajustement du modèle) : 2.301507206788475\n",
      "La moyenne de toutes les notes prédites (de l'ajustement supplémentaire du modèle (1B)) : 3.498857666932281\n",
      "La moyenne de toutes les notes prédites (de l'ajustement supplémentaire du modèle (2A)) : 3.508780826522937\n",
      "La moyenne de toutes les notes prédites (de l'ajustement supplémentaire du modèle (2B)) : 3.509047317849882\n",
      "\n",
      "La moyenne de toutes les notes (globale) : 3.501527080895623\n"
     ]
    }
   ],
   "source": [
    "mask = Y != 0\n",
    "mu_hat1 = np.mean(predict1[mask])\n",
    "mu_hat2 = np.mean(predict2[mask])\n",
    "mu_hat4 = np.mean(predict4[mask])\n",
    "mu_hat5 = np.mean(predict5[mask])\n",
    "mu_hat6 = np.mean(predict6[mask])\n",
    "print(f\"La moyenne de Ymean : {np.mean(Ymean)}\\n\")\n",
    "print(f\"La moyenne de toutes les notes prédites (du modèle initial) : {mu_hat1}\")\n",
    "print(f\"La moyenne de toutes les notes prédites (de l'ajustement du modèle) : {mu_hat2}\")\n",
    "print(f\"La moyenne de toutes les notes prédites (de l'ajustement supplémentaire du modèle (1B)) : {mu_hat4}\")\n",
    "print(f\"La moyenne de toutes les notes prédites (de l'ajustement supplémentaire du modèle (2A)) : {mu_hat5}\")\n",
    "print(f\"La moyenne de toutes les notes prédites (de l'ajustement supplémentaire du modèle (2B)) : {mu_hat6}\\n\")\n",
    "print(f\"La moyenne de toutes les notes (globale) : {mu}\")"
   ]
  },
  {
   "cell_type": "code",
   "execution_count": 187,
   "id": "b877866f-9ab2-4119-8a2a-4fbae00d17af",
   "metadata": {},
   "outputs": [
    {
     "name": "stdout",
     "output_type": "stream",
     "text": [
      "PCC du modèle initial:  0.25087511597982265\n",
      "PCC de l'ajustement du modèle:  0.7167641777074316\n",
      "PCC de l'ajustement supplémentaire du modèle (1B):  0.6486162769653184\n",
      "PCC de l'ajustement supplémentaire du modèle (2A):  0.9359309245969818\n",
      "PCC de l'ajustement supplémentaire du modèle (2B):  0.9355534702128975\n"
     ]
    }
   ],
   "source": [
    "numerateur1 = ((predict1 - mu_hat1) * (Y - mu) * R).sum()\n",
    "denominateur1 = np.sqrt( (((Y - mu)*R)**2).sum() * (((predict1 - mu_hat1)*R)**2).sum() )\n",
    "pcc1 = numerateur1/denominateur1\n",
    "print(\"PCC du modèle initial: \",pcc1)\n",
    "\n",
    "numerateur2 = ((predict2 - mu_hat2) * (Y - mu) * R).sum()\n",
    "denominateur2 = np.sqrt( (((Y - mu)*R)**2).sum() * (((predict2 - mu_hat2)*R)**2).sum() )\n",
    "pcc2 = numerateur2/denominateur2\n",
    "print(\"PCC de l'ajustement du modèle: \",pcc2)\n",
    "\n",
    "numerateur4 = ((predict4 - mu_hat4) * (Y - mu) * R).sum()\n",
    "denominateur4 = np.sqrt( (((Y - mu)*R)**2).sum() * (((predict4 - mu_hat4)*R)**2).sum() )\n",
    "pcc4 = numerateur4/denominateur4\n",
    "print(\"PCC de l'ajustement supplémentaire du modèle (1B): \",pcc4)\n",
    "\n",
    "numerateur5 = ((predict5 - mu_hat5) * (Y - mu) * R).sum()\n",
    "denominateur5 = np.sqrt( (((Y - mu)*R)**2).sum() * (((predict5 - mu_hat5)*R)**2).sum() )\n",
    "pcc5 = numerateur5/denominateur5\n",
    "print(\"PCC de l'ajustement supplémentaire du modèle (2A): \", pcc5)\n",
    "\n",
    "numerateur6 = ((predict6 - mu_hat6) * (Y - mu) * R).sum()\n",
    "denominateur6 = np.sqrt( (((Y - mu)*R)**2).sum() * (((predict6 - mu_hat6)*R)**2).sum() )\n",
    "pcc6 = numerateur6/denominateur6\n",
    "print(\"PCC de l'ajustement supplémentaire du modèle (2B): \", pcc6)"
   ]
  },
  {
   "cell_type": "code",
   "execution_count": 188,
   "id": "4b550213-d364-4fe5-be98-8447e07bcac7",
   "metadata": {},
   "outputs": [
    {
     "data": {
      "image/png": "[encoded data removed]",
      "text/plain": [
       "<Figure size 1200x200 with 2 Axes>"
      ]
     },
     "metadata": {},
     "output_type": "display_data"
    }
   ],
   "source": [
    "import seaborn as sns\n",
    "\n",
    "pcc_values = [pcc1, pcc2, pcc4, pcc5, pcc6]\n",
    "matrice_pcc = np.array(pcc_values).reshape(1, -1)\n",
    "\n",
    "etiquettes = [\n",
    "    \"Initial Model\",\n",
    "    \"Model Adjustment\",\n",
    "    \"Additional Adjustment (1B)\",\n",
    "    \"Additional Adjustment (2A)\",\n",
    "    \"Additional Adjustment (2B)\"\n",
    "]\n",
    "\n",
    "# heatmap\n",
    "plt.figure(figsize=(12, 2))\n",
    "sns.heatmap(matrice_pcc, annot=True, fmt=\".5f\", xticklabels=etiquettes, yticklabels=[\"PCC\"], cmap=\"YlGnBu\",annot_kws={\"size\": 12},cbar_kws={\"shrink\": 0.9, \"aspect\": 11})\n",
    "plt.xticks(rotation=25,fontsize=12)\n",
    "plt.yticks(fontsize=12)\n",
    "plt.title(\"Heatmap of Model PCCs - PCA\",fontsize = 14)\n",
    "plt.savefig(\"Image/heatmap_pcc_pca.png\", dpi=300, bbox_inches='tight')\n",
    "plt.show()"
   ]
  },
  {
   "cell_type": "code",
   "execution_count": 189,
   "id": "2574845f-2d3b-4980-8d69-eb2e1ab77fbf",
   "metadata": {},
   "outputs": [],
   "source": [
    "import pickle\n",
    "\n",
    "eva_model_pca = [rmse5, rmse6, mae5, mae6, cv_rmse5,cv_rmse6,cv_mae5,cv_mae6]\n",
    "\n",
    "with open('var2.pkl', 'wb') as f:\n",
    "    pickle.dump(eva_model_pca, f)"
   ]
  },
  {
   "cell_type": "markdown",
   "id": "dfb5eaff-f664-420c-a15d-bc3e91682c0e",
   "metadata": {},
   "source": [
    "**-----C'est fini-----**\n",
    "\n",
    "[FAIRE DÉFILER VERS LE HAUT](#0)"
   ]
  }
 ],
 "metadata": {
  "kernelspec": {
   "display_name": "Python 3 (ipykernel)",
   "language": "python",
   "name": "python3"
  },
  "language_info": {
   "codemirror_mode": {
    "name": "ipython",
    "version": 3
   },
   "file_extension": ".py",
   "mimetype": "text/x-python",
   "name": "python",
   "nbconvert_exporter": "python",
   "pygments_lexer": "ipython3",
   "version": "3.11.4"
  }
 },
 "nbformat": 4,
 "nbformat_minor": 5
}
