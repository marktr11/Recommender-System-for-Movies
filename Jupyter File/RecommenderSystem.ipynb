{
 "cells": [
  {
   "cell_type": "markdown",
   "id": "8aa340c8-abe4-42e7-b3f6-630ffb95082a",
   "metadata": {},
   "source": [
    "# Le Filtrage Collaboratif (Collaborative Filtering)"
   ]
  },
  {
   "cell_type": "markdown",
   "id": "513f5b1f-739e-417b-a8ff-a148bbbffbe8",
   "metadata": {},
   "source": [
    "### Table des matières <a id=\"0\"></a>\n",
    "- [Packages](#1)\n",
    "- [Notation](#2)\n",
    "- [Propos de l'ensemble de données](#3)\n",
    "- [L'algorithme du filtrage collaboratif](#4)\n",
    "  - [Fonction de perte](#4.1)\n",
    "  - [Descente de gradient](#4.2)\n",
    "- [Évaluation](#5)\n",
    "- [Recommandation](#6)\n",
    "  - [Comparaison entre les notes originales et les notes prévisionnelles](#6.1)\n",
    "  - [Recommandation des films pour le nouvel utilisateur](#6.2)"
   ]
  },
  {
   "cell_type": "markdown",
   "id": "6c7dd27a-c9d9-44f3-9bc9-5c17dd856839",
   "metadata": {},
   "source": [
    "## Packages. <a id=\"1\"></a>"
   ]
  },
  {
   "cell_type": "markdown",
   "id": "f6c49d7f-c6fb-4932-8550-5f93031d1fc1",
   "metadata": {},
   "source": [
    "NumPy, Pandas et TensorFlow sont les packages utiles dans ce projet."
   ]
  },
  {
   "cell_type": "code",
   "execution_count": 1,
   "id": "88331203-e32a-40bc-83ea-9334df398262",
   "metadata": {},
   "outputs": [],
   "source": [
    "import pandas as pd\n",
    "import numpy as np\n",
    "import tensorflow as tf\n",
    "from tensorflow import keras\n",
    "from FonctionUtile import *"
   ]
  },
  {
   "cell_type": "markdown",
   "id": "12d77ae8-14b0-4df7-afe7-1504251b506c",
   "metadata": {},
   "source": [
    "## Notation. <a id=\"2\"></a>"
   ]
  },
  {
   "cell_type": "markdown",
   "id": "a8ec5f24-daf7-4e4b-a955-0e8a09edf97e",
   "metadata": {},
   "source": [
    "\\begin{array}{|l|l|l|}\n",
    "\\hline\n",
    "\\text{Notation} & \\text{Description} & \\text{Python (le cas échéant)} \\\\\n",
    "\\hline\n",
    "r(i,j) & \\text{scalaire; } = 1 \\text{ si l'utilisateur } j \\text{ a évalué le film } i, = 0 \\text{ sinon} & \\\\\n",
    "y(i,j) & \\text{scalaire; note donnée par l'utilisateur } j \\text{ pour le film } i \\text{ (si } r(i,j) = 1 \\text{ est défini)} & \\\\\n",
    "\\mathbf{w}^{(j)} & \\text{vecteur; paramètres pour l'utilisateur } j & \\\\\n",
    "\\mathbf{x}^{(i)} & \\text{vecteur; caractéristiques du film } i & \\\\\n",
    "b^{(i,j)} & \\text{scalaire; paramètre de biais pour le film } i \\text{ et l'utilisateur } j & \\text{b}\\\\\n",
    "b_u^{(j)} & \\text{scalaire; paramètre de biais pour l'utilisateur } j &  \\\\\n",
    "b_f^{(i)} & \\text{scalaire; paramètre de biais pour le film } i  &  \\\\\n",
    "b_u & \\text{vecteur; paramètres de biais pour l'utilisateur } j & \\text{b\\_u} \\\\\n",
    "b_f & \\text{vecteur; paramètres de biais pour le film } i  & \\text{b\\_f} \\\\\n",
    "n_u & \\text{nombre d'utilisateurs} & \\text{nb\\_utilisateurs} \\\\\n",
    "n_f & \\text{nombre de films} & \\text{nb\\_films} \\\\\n",
    "k & \\text{nombre de caractéristiques} & \\text{nb\\_caracs} \\\\\n",
    "\\mathbf{X} & \\text{matrice de vecteurs } \\mathbf{x}^{(i)} & \\text{X} \\\\\n",
    "\\mathbf{W} & \\text{matrice de vecteurs } \\mathbf{w}^{(j)} & \\text{W} \\\\\n",
    "\\mathbf{B} & \\text{matrice de paramètres de biais } b^{(i,j)} & \\text{B} \\\\\n",
    "\\mathbf{R} & \\text{matrice des éléments } r(i,j) & \\text{R} \\\\\n",
    "\\mathbf{Y} & \\text{matrice des éléments } y(i,j) & \\text{Y} \\\\\n",
    "\\mathbf{\\hat{Y}} & \\text{matrice approximative de } \\mathbf{Y} & \\\\\n",
    "\\hline\n",
    "\\end{array}"
   ]
  },
  {
   "cell_type": "markdown",
   "id": "80c234aa-a10f-4aa5-95b1-40d9a90c0d97",
   "metadata": {},
   "source": [
    "## Propos de l'ensemble de données. <a id=\"3\"></a>"
   ]
  },
  {
   "cell_type": "code",
   "execution_count": 2,
   "id": "7693709e-5a7c-4473-a99f-93ce9d04a552",
   "metadata": {},
   "outputs": [
    {
     "name": "stdout",
     "output_type": "stream",
     "text": [
      "Matrix Y dim  (9724, 610)\n",
      "Matrix R dim  (9724, 610)\n",
      "Nombre de films:  9724\n",
      "Nombre d'utilisateurs:  610\n",
      "Nombre de caracteristiques:  10\n"
     ]
    }
   ],
   "source": [
    "#importer les données\n",
    "Y,R = data_ratings()\n",
    "nb_caracs = 10 # Choisissez 10 car ce nombre réduit le coût tout en étant suffisamment grand pour un grand ensemble de données.\n",
    "print(\"Matrix Y dim \", Y.shape)\n",
    "print(\"Matrix R dim \", R.shape)\n",
    "nb_films, nb_utilisateurs=Y.shape\n",
    "print(\"Nombre de films: \", nb_films)\n",
    "print(\"Nombre d'utilisateurs: \", nb_utilisateurs)\n",
    "print(\"Nombre de caracteristiques: \", nb_caracs)"
   ]
  },
  {
   "cell_type": "markdown",
   "id": "2c0ef290-3e8f-417d-b10b-e020188c58a4",
   "metadata": {},
   "source": [
    "Il est nécessaire de savoir que dans la matrice des notes $Y$, les notes vont de 0.5 à 5 par intervalles de 0.5. Toutes les cellules à 0 signifient que les clients n'ont pas encore donné de note ou n'ont pas voté."
   ]
  },
  {
   "cell_type": "markdown",
   "id": "6ffb0baf-7212-488a-bab2-ecf08e7aaeb0",
   "metadata": {},
   "source": [
    "La matrice $Y$ est une matrice creuse dans la plupart des applications, car seule une petite fraction de ses éléments est différente de zéro."
   ]
  },
  {
   "cell_type": "code",
   "execution_count": 3,
   "id": "039f5812-9d3e-4be2-b9ea-6490a02818da",
   "metadata": {},
   "outputs": [
    {
     "name": "stdout",
     "output_type": "stream",
     "text": [
      "Nombre de cellules dans Y :  5931640\n",
      "Nombre de notes attribuées :  100836\n",
      "Taux de notes attribuées par rapport à toutes les cellules :  1.6999683055613624 %\n"
     ]
    }
   ],
   "source": [
    "print(\"Nombre de cellules dans Y : \", nb_utilisateurs * nb_films)\n",
    "print(\"Nombre de notes attribuées : \", R.sum())\n",
    "print(\"Taux de notes attribuées par rapport à toutes les cellules : \", (R.sum() / (nb_utilisateurs * nb_films)) * 100, \"%\")"
   ]
  },
  {
   "cell_type": "markdown",
   "id": "b931ba74-d38c-4ad7-8901-5c2b50f800f2",
   "metadata": {},
   "source": [
    "**J'ajoute le nouvel utilisateur dans le but de lui faire [des recommandations par la suite](#rec).** <a id=\"new-user\"></a>"
   ]
  },
  {
   "cell_type": "code",
   "execution_count": 4,
   "id": "cfbd8339-b853-44d1-a969-d36eba4df24d",
   "metadata": {},
   "outputs": [],
   "source": [
    "#initialize mes notes\n",
    "mes_notes = np.zeros(nb_films)\n",
    "\n",
    "#Regarder le fichier 'movise_list.csv'\n",
    "mes_notes[0]=1 # Si je ne préfére pas ce film\n",
    "mes_notes[0]=5 # Si j préfére ce film\n",
    "\n",
    "#Je crée mes listes de notes. Les notes doivent être entières\n",
    "# L'index maximum correspond au (nombre total de films -1)\n",
    "mes_notes[0]= 5    # Toy story (1995)\n",
    "mes_notes[483]=3    # Nightmare Before Christmas, The (1993)\n",
    "mes_notes[480]=2   # Terminal Velocity (1994)\n",
    "mes_notes[1402]=2   # Pi (1998)\n",
    "mes_notes[1400]=4   # Madeline (1998)\n",
    "mes_notes[2695]=5   # Loser (2000)\n",
    "mes_notes[2696]=4   # Road Trip (2000)\n",
    "mes_notes[2734]=3  # Benji(1974)\n",
    "mes_notes[3090]=1   # Hannibal(2001)\n",
    "mes_notes[3942]=3   # Time after Time (1979)\n",
    "mes_notations=     [i for i in range(len(mes_notes)) if mes_notes[i] > 0]# Stocke les indices des films que j'ai notés"
   ]
  },
  {
   "cell_type": "code",
   "execution_count": 5,
   "id": "b1edf13b-4168-42ca-9aae-e44bdfe8d645",
   "metadata": {},
   "outputs": [],
   "source": [
    "# Ajouter un nouvel utilisateur à la matrice Y.\n",
    "Y = np.c_[mes_notes, Y] #Le nouvel utilisateur ajouté occupe l'indice 0 dans la colonne des utilisateurs\n",
    "\n",
    "# Ajouter l'indicateur de nouvel utilisateur à la matrice R\n",
    "R = np.c_[(mes_notes != 0).astype(int), R]"
   ]
  },
  {
   "cell_type": "markdown",
   "id": "5acd9f66-5bdf-4c9f-845d-1406d1796888",
   "metadata": {},
   "source": [
    "Le nombre de films et d'utilisateurs est maintenant le suivant :"
   ]
  },
  {
   "cell_type": "code",
   "execution_count": 6,
   "id": "30874b4e-89fd-4870-af18-14342d1f9bba",
   "metadata": {},
   "outputs": [
    {
     "name": "stdout",
     "output_type": "stream",
     "text": [
      "Matrix Y dim  (9724, 611)\n",
      "Matrix R dim  (9724, 611)\n",
      "Nombre de films:  9724\n",
      "Nombre d'utilisateurs:  611\n"
     ]
    }
   ],
   "source": [
    "print(\"Matrix Y dim \", Y.shape)\n",
    "print(\"Matrix R dim \", R.shape)\n",
    "nb_films, nb_utilisateurs=Y.shape\n",
    "print(\"Nombre de films: \", nb_films)\n",
    "print(\"Nombre d'utilisateurs: \", nb_utilisateurs)"
   ]
  },
  {
   "cell_type": "code",
   "execution_count": 7,
   "id": "a5741785-bb06-4ca1-bc2d-cce3bdadac32",
   "metadata": {},
   "outputs": [
    {
     "name": "stdout",
     "output_type": "stream",
     "text": [
      "Matrix note moyenne dim  (9724, 1)\n",
      "Matrix note normalisé dim  (9724, 611)\n"
     ]
    }
   ],
   "source": [
    "#Charger les données pour la fonction de pré-calcul.\n",
    "Ymean, Ynorm = normalizeRatings(Y,R)\n",
    "print(\"Matrix note moyenne dim \", Ymean.shape)\n",
    "print(\"Matrix note normalisé dim \", Ynorm.shape)"
   ]
  },
  {
   "cell_type": "markdown",
   "id": "e986056d-727f-4d43-8eea-5d9371c440bc",
   "metadata": {},
   "source": [
    "On initialise la matrice des paramètres utilisateur $W$ et la matrice des paramètres des films $X$, où $X$ stocke les vecteurs de paramètres des utilisateurs $\\mathbf{x}^{(i)}$, tandis que la matrice $W$ stocke les vecteurs de paramètres des films $\\mathbf{w}^{(j)}$ afin d'entraîner le modèle. Avec cet ensemble de données, on choisit le nombre de caractéristiques $k = 10$.\n",
    "\n"
   ]
  },
  {
   "cell_type": "code",
   "execution_count": 8,
   "id": "85a5a543-f9d9-4878-8a54-bfcc174a1f5a",
   "metadata": {},
   "outputs": [
    {
     "name": "stdout",
     "output_type": "stream",
     "text": [
      "Matrix W dim  (10, 611)\n",
      "Matrix X dim  (9724, 10)\n"
     ]
    }
   ],
   "source": [
    "np.random.seed(12) # for consistent results\n",
    "W_initiale = np.random.normal(size=(nb_caracs, nb_utilisateurs))\n",
    "X_initiale = np.random.normal(size=(nb_films, nb_caracs))\n",
    "print(\"Matrix W dim \", W_initiale.shape)\n",
    "print(\"Matrix X dim \", X_initiale.shape)"
   ]
  },
  {
   "cell_type": "markdown",
   "id": "8f8c894a-d36a-42d3-b5f3-134c8c8a6d01",
   "metadata": {},
   "source": [
    "Maintenant, nous calculons la note moyenne pour chaque film par la $i$-ème ligne de la matrice $Y$, en excluant les zéros, c'est-à-dire uniquement les films qui ont été évalués sont inclus."
   ]
  },
  {
   "cell_type": "markdown",
   "id": "86003455-368a-4114-ada5-40a54502e366",
   "metadata": {},
   "source": [
    "On calcule les biais des utilisateurs et des films, ainsi que la moyenne de toutes les notes."
   ]
  },
  {
   "cell_type": "code",
   "execution_count": 9,
   "id": "8ce69a38-5ffc-4e8d-8897-d3588dc9a35d",
   "metadata": {},
   "outputs": [
    {
     "name": "stdout",
     "output_type": "stream",
     "text": [
      "La taille de dict utilisateur_ratings : 610\n",
      "La taille de dict utilisateur_ratings_updated : 611\n",
      "Total biais de l'utilisateur : 611\n",
      "Total biais du film: 9724\n",
      "La moyenne de Ymean : 3.2624895815718498\n",
      "La moyenne de toutes les notes : 3.501527080895623\n"
     ]
    }
   ],
   "source": [
    "#Charger les données pour la fonction de pré-calcul.\n",
    "utilisateur_ratings,film_ratings =  dict_evaluations()#origine \n",
    "\n",
    "# On utilise .copy() pour éviter que utilisateur_ratings et film_ratings \n",
    "# ne soient modifiés lorsqu'ils sont passés à la fonction update_dict_evaluations. \n",
    "# Cela permet de travailler avec des copies indépendantes des dictionnaires d'origine.\n",
    "utilisateur_ratings_updated,film_ratings_updated = update_dict_evaluations(Y, utilisateur_ratings.copy(),film_ratings.copy())\n",
    "print(f\"La taille de dict utilisateur_ratings : {len(utilisateur_ratings)}\")\n",
    "print(f\"La taille de dict utilisateur_ratings_updated : {len(utilisateur_ratings_updated)}\")\n",
    "mu,b_u,b_f = bias_param(Y, utilisateur_ratings_updated.copy(), film_ratings_updated.copy())\n",
    "print(f\"Total biais de l'utilisateur : {len(b_u)}\")\n",
    "print(f\"Total biais du film: {len(b_f)}\")\n",
    "print(f\"La moyenne de Ymean : {np.mean(Ymean)}\")\n",
    "print(f\"La moyenne de toutes les notes : {mu}\")"
   ]
  },
  {
   "cell_type": "markdown",
   "id": "f79eb42f-7c87-4299-9b3e-31c62402ad02",
   "metadata": {},
   "source": [
    "En effet, la moyenne de $\\mathbf Ymean$ (c'est-à-dire la moyenne des moyennes de chaque film) n'est pas la même que la moyenne de toutes les notes, simplement parce que dans la moyenne de toutes les notes ($\\mu$), chaque évaluation est considérée comme une valeur ponctuelle, donc toutes les évaluations ont un poids égal. Dans la moyenne de Ymean, vous calculez d'abord la moyenne pour chaque film. Cela peut augmenter ou diminuer le poids des films en fonction du nombre d'évaluations que chaque film reçoit."
   ]
  },
  {
   "cell_type": "code",
   "execution_count": 10,
   "id": "fd8e0673-82d9-4dbf-a172-087124e01d0a",
   "metadata": {},
   "outputs": [
    {
     "name": "stdout",
     "output_type": "stream",
     "text": [
      "(9724, 611)\n"
     ]
    }
   ],
   "source": [
    "B = Biais_matrix(b_f,b_u,mu,Y) #pre-calculé la matrice de biais\n",
    "print(B.shape)"
   ]
  },
  {
   "cell_type": "markdown",
   "id": "35c557f9-8fab-4159-ae38-5e1698be848c",
   "metadata": {},
   "source": [
    "## L'algorithme du filtrage collaboratif.<a id=\"4\"></a>"
   ]
  },
  {
   "cell_type": "markdown",
   "id": "cb80e6fd-f88d-4a45-889a-4330625f6c8f",
   "metadata": {},
   "source": [
    "### 1. fonction de perte. <a id=\"4.1\"></a>"
   ]
  },
  {
   "cell_type": "markdown",
   "id": "071a61ea-e7b9-4aa7-8686-98f26e272b94",
   "metadata": {},
   "source": [
    "#### Le modèle initial\n",
    "\n",
    "$$\\begin{align}\n",
    "\\mathcal{L}(\\mathbf{x^{(i)}}, \\mathbf{w^{(j)}}, \\mathbf{b_u}^{(j)},\\mathbf{b_m}^{(i)})= \\frac{1}{2} & \\sum_{(i,j) : r(i,j) = 1}  \\left( \\mathbf{x}^{(i)} \\cdot \\mathbf{w}^{(j)} + \\mathbf{b_u}^{(j)} + \\mathbf{b_m}^{(i)} +\\mu - y(i,j) \\right)^2  + \\underbrace{ \\frac{\\lambda}{2} \\left( ||\\mathbf{w}^{(j)}||^2 + ||\\mathbf{x}^{(i)}||^2 + (\\mathbf{b_u}^{(j)})^2 + (\\mathbf{b_m}^{(i)})^2 \\right) }_{\\text{regularization}} \n",
    "\\end{align} $$"
   ]
  },
  {
   "cell_type": "code",
   "execution_count": 11,
   "id": "3de5d041-e0d5-41df-8375-f34457b3d949",
   "metadata": {},
   "outputs": [],
   "source": [
    "def FonctionPerte_Init(W,X,b_u,b_f,Y,R,lambda_,mu):\n",
    "   \"\"\"\n",
    " Arguments :\n",
    "   X (ndarray (nb_films, nb_caracs)): matrice des caractéristiques des films\n",
    "   W (ndarray (nb_caracs, nb_utilisateurs)): matrice des paramètres des utilisateurs\n",
    "   b_u (ndarray (1, nb_utilisateur)) : vecteur des parametres de biais.\n",
    "   b_f (ndarray (nb_films, 1)) : vecteur des parametres de biais.\n",
    "   Y (ndarray (nb_films,nb_utilisateurs)): matrice des évaluations des utilisateurs pour les films\n",
    "   R (ndarray (nb_films,nb_utilisateurs)): matrice où R(i, j) = 1 si le j-ème utilisateur a évalué le i-ème film\n",
    "   lambda_ (float): paramètre de régularisation\n",
    "   mu (float) : la moyenne de toutes les évaluations attribuées\n",
    " Retourne :\n",
    "   L (float): valeur de perte\n",
    "   \"\"\"\n",
    "    \n",
    "   l = (tf.linalg.matmul(X, W) + b_u + b_f + mu - Y)*R\n",
    "   L = 0.5 * tf.reduce_sum(l**2) + (lambda_/2) * (tf.reduce_sum(X**2) + tf.reduce_sum(W**2)+tf.reduce_sum(b_u**2)+tf.reduce_sum(b_f**2))\n",
    "   return L"
   ]
  },
  {
   "cell_type": "markdown",
   "id": "d24c4b54-1c71-468b-a0a3-4a1f55fa9c54",
   "metadata": {},
   "source": [
    "#### L'ajustement du modèle\r\n",
    "\r\n",
    "$$\r\n",
    "\\mathcal{L}(\\mathbf{x^{(i)}}, \\mathbf{w^{(j)}}, \\mathbf{b}^{(i,j)}) = \\frac{1}{2} \\sum_{(i,j) : r(i,j) = 1} \\left( \\mathbf{x}^{(i)} \\cdot \\mathbf{w}^{(j)} + \\mathbf{b}^{(i,j)} + \\mu - y(i,j) \\right)^2\r\n",
    "+ \\underbrace{ \\frac{\\lambda}{2} \\left( ||\\mathbf{w}^{(j)}||^2 + ||\\mathbf{x}^{(i)}||^2 + (\\mathbf{b}^{(i,j)})^2 \\right) }_{\\text{regularization}} \r\n",
    "$$\r\n"
   ]
  },
  {
   "cell_type": "code",
   "execution_count": 12,
   "id": "2664e590-73d8-41f4-a4a1-ed092020e745",
   "metadata": {},
   "outputs": [],
   "source": [
    "def FonctionPerte_Ajust(W,X,B,Y,R,lambda_,mu):\n",
    "   \"\"\"\n",
    " Arguments :\n",
    "   X (ndarray (nb_films, nb_caracs)): matrice des caractéristiques des films\n",
    "   W (ndarray (nb_caracs, nb_utilisateurs)): matrice des paramètres des utilisateurs\n",
    "   B (ndarray (nb_films, nb_utilisateurs)) : matrice des parametres de biais.\n",
    "   Y (ndarray (nb_films,nb_utilisateurs)): matrice des évaluations des utilisateurs pour les films\n",
    "   R (ndarray (nb_films,nb_utilisateurs)): matrice où R(i, j) = 1 si le j-ème utilisateur a évalué le i-ème film\n",
    "   lambda_ (float): paramètre de régularisation\n",
    "   mu (float) : la moyenne de toutes les évaluations attribuées\n",
    " Retourne :\n",
    "   L (float): valeur de perte\n",
    "   \"\"\"\n",
    "   l = (tf.linalg.matmul(X, W) + B + mu - Y)*R\n",
    "   L = 0.5 * tf.reduce_sum(l**2) + (lambda_/2) * (tf.reduce_sum(X**2) + tf.reduce_sum(W**2)+tf.reduce_sum(B**2))\n",
    "   return L"
   ]
  },
  {
   "cell_type": "markdown",
   "id": "074148af-b157-4a6e-bd75-c08ee7f1558f",
   "metadata": {},
   "source": [
    "#### Des ajustements supplémentaires du modèle: \n",
    "\n",
    "##### l'Approche 1:\n",
    "\n",
    "$$\\begin{align}\n",
    "\\mathcal{L}({\\mathbf{x^{(i)}}, \\mathbf{w^{(j)}}, \\mathbf{b_u^{(j)}}, \\mathbf{b_m^{(i)}}})= \\frac{1}{2} & \\sum_{(i,j) : r(i,j) = 1}  \\left( \\mathbf{x}^{(i)} \\cdot \\mathbf{w}^{(j)} + \\mathbf{b_u}^{(j)} + \\mathbf{b_m}^{(i)} - y_{\\text{norm}}(i,j) \\right)^2 + \\underbrace{ \\frac{\\lambda}{2} \\left( ||\\mathbf{w}^{(j)}||^2 + ||\\mathbf{x}^{(i)}||^2 + (\\mathbf{b_u}^{(j)})^2 + (\\mathbf{b_m}^{(i)})^2 \\right) }_{\\text{regularization}} \n",
    "\\end{align} $$"
   ]
  },
  {
   "cell_type": "code",
   "execution_count": 13,
   "id": "3384b9d6-5744-4710-8b2b-96b2ff1f66cb",
   "metadata": {},
   "outputs": [],
   "source": [
    "def FonctionPerte_Sup1(W,X,b_u,b_f,Y,R,lambda_):\n",
    "   \"\"\"\n",
    " Arguments :\n",
    "   X (ndarray (nb_films, nb_caracs)): matrice des caractéristiques des films\n",
    "   W (ndarray (nb_caracs, nb_utilisateurs)): matrice des paramètres des utilisateurs\n",
    "   b_u (ndarray (1, nb_utilisateur)) : vecteur des parametres de biais.\n",
    "   b_f (ndarray (nb_films, 1)) : vecteur des parametres de biais.\n",
    "   Y (ndarray (nb_films,nb_utilisateurs)): matrice des évaluations des utilisateurs pour les films\n",
    "   R (ndarray (nb_films,nb_utilisateurs)): matrice où R(i, j) = 1 si le j-ème utilisateur a évalué le i-ème film\n",
    "   lambda_ (float): paramètre de régularisation\n",
    " Retourne :\n",
    "   L (float): valeur de perte\n",
    "   \"\"\"\n",
    "   l = (tf.linalg.matmul(X, W) + b_u + b_f - Y)*R\n",
    "   L = 0.5 * tf.reduce_sum(l**2) + (lambda_/2) * (tf.reduce_sum(X**2) + tf.reduce_sum(W**2)+tf.reduce_sum(b_u**2)+tf.reduce_sum(b_f**2))\n",
    "   return L"
   ]
  },
  {
   "cell_type": "markdown",
   "id": "0b131fcb-17dd-428d-aca4-7e179dac7ba3",
   "metadata": {},
   "source": [
    "##### l'Approche 2:\n",
    "\n",
    "$$\\begin{align}\n",
    "\\mathcal{L}(\\mathbf{w}^{(j)}, \\mathbf{x}^{(i)}, \\mathbf{b}^{(i,j)}) = &  \\frac{1}{2}  \\sum_{(i,j): r(i,j) = 1}  \\left( \\mathbf{x}^{(i)} \\cdot \\mathbf{w}^{(j)} + \\mathbf{b}^{(i,j)} - y_{\\text{norm}}(i,j) \\right)^2 + \\underbrace{ \\frac{\\lambda}{2} \\left( ||\\mathbf{w}^{(j)}||^2 + ||\\mathbf{x}^{(i)}||^2 + (\\mathbf{b}^{(i,j)})^2 \\right) }_{\\text{regularization}} \\label{eq:cost_function_B}\n",
    "\\end{align}$$"
   ]
  },
  {
   "cell_type": "code",
   "execution_count": 14,
   "id": "3719f2f3-c8a9-4b63-aba1-10f05d7a9e39",
   "metadata": {},
   "outputs": [],
   "source": [
    "def FonctionPerte_Sup2(W,X,B,Y,R,lambda_):\n",
    "   \"\"\"\n",
    " Arguments :\n",
    "   X (ndarray (nb_films, nb_caracs)): matrice des caractéristiques des films\n",
    "   W (ndarray (nb_caracs, nb_utilisateurs)): matrice des paramètres des utilisateurs\n",
    "   B (ndarray (nb_films, nb_utilisateurs)) : matrice des parametres de biais.\n",
    "   Y (ndarray (nb_films,nb_utilisateurs)): matrice des évaluations des utilisateurs pour les films\n",
    "   R (ndarray (nb_films,nb_utilisateurs)): matrice où R(i, j) = 1 si le j-ème utilisateur a évalué le i-ème film\n",
    "   lambda_ (float): paramètre de régularisation\n",
    " Retourne :\n",
    "   L (float): valeur de perte\n",
    "   \"\"\"\n",
    "   l = (tf.linalg.matmul(X, W) + B - Y)*R\n",
    "   L = 0.5 * tf.reduce_sum(l**2) + (lambda_/2) * (tf.reduce_sum(X**2) + tf.reduce_sum(W**2)+tf.reduce_sum(B**2))\n",
    "   return L"
   ]
  },
  {
   "cell_type": "markdown",
   "id": "bc4421af-403b-454a-959a-4657b4ad05a6",
   "metadata": {},
   "source": [
    "### 2. Descente de gradient. <a id=\"4.2\"></a>"
   ]
  },
  {
   "cell_type": "markdown",
   "id": "6f8a8912-ec9a-4a0e-8641-36a5560d4d4d",
   "metadata": {},
   "source": [
    "#### 2.1 Le modèle initial"
   ]
  },
  {
   "cell_type": "code",
   "execution_count": 15,
   "id": "30473426-e082-41e9-9a20-4117715c5729",
   "metadata": {},
   "outputs": [],
   "source": [
    "opti1 = keras.optimizers.Adam(learning_rate=1e-1)#le taux d'apprentissage Adam"
   ]
  },
  {
   "cell_type": "code",
   "execution_count": 16,
   "id": "bf35ab61-3f90-4dde-ac2a-4e68b1420e13",
   "metadata": {},
   "outputs": [],
   "source": [
    "def suivre_variables_init(X_initial, W_initial):\n",
    "    W = tf.Variable(W_initial, name='W')     # matrice W \n",
    "    X = tf.Variable(X_initial, name='X')     # matrice X \n",
    "    bu = tf.Variable(tf.random.normal((1,          nb_utilisateurs),   dtype=tf.float64),  name='b_u')\n",
    "    bf = tf.Variable(tf.random.normal((nb_films,          1),   dtype=tf.float64),  name='b_f')\n",
    "    return X, W, bu,bf #4 paramètres à suivre"
   ]
  },
  {
   "cell_type": "code",
   "execution_count": 17,
   "id": "819ade2e-67b8-4c7b-991d-813b99b36db7",
   "metadata": {},
   "outputs": [],
   "source": [
    "X1,W1,b_u1,b_f1 = suivre_variables_init(X_initiale, W_initiale)"
   ]
  },
  {
   "cell_type": "code",
   "execution_count": 18,
   "id": "9176cfa8-a25b-4168-b868-6ebe8f3cf0d3",
   "metadata": {},
   "outputs": [
    {
     "name": "stdout",
     "output_type": "stream",
     "text": [
      "La valeur de perte (sans regularisation): 665150.257\n",
      "La valeur de perte (avec regularisation): 721791.075\n"
     ]
    }
   ],
   "source": [
    "Perte=FonctionPerte_Init(W_initiale,X_initiale,b_u1,b_f1,Y,R,0,mu)\n",
    "PerteRegul=FonctionPerte_Init(W_initiale,X_initiale,b_u1,b_f1,Y,R,1,mu)\n",
    "print(f\"La valeur de perte (sans regularisation): {Perte:0.3f}\")\n",
    "print(f\"La valeur de perte (avec regularisation): {PerteRegul:0.3f}\")"
   ]
  },
  {
   "cell_type": "code",
   "execution_count": 19,
   "id": "c3fa08a4-7035-49b0-8460-4c1b81cffc57",
   "metadata": {},
   "outputs": [],
   "source": [
    "def GD_modele_init(W,X,b_u,b_f,Y,R,lambda_,iterations,taux_apprenti,mu): #Gradient descent pour le modèle initial\n",
    " for iter in range(iterations):\n",
    "    # Enregistrer les opérations utilisées pour calculer la perte\n",
    "    with tf.GradientTape() as tape:\n",
    "\n",
    "        # Calculer la fonction de perte\n",
    "        valeur_perte = FonctionPerte_Init(W,X,b_u,b_f,Y,R,lambda_,mu)\n",
    "\n",
    "    # Récupérer automatiquement les gradients des variables entraînables par rapport à la perte\n",
    "    grads = tape.gradient(valeur_perte, [X, W,b_u,b_f])\n",
    "\n",
    "    # Exécuter une étape de descente de gradient en mettant à jour la valeur des variables pour minimiser la perte\n",
    "    taux_apprenti.apply_gradients(zip(grads, [X, W,b_u,b_f]))\n",
    "    \n",
    "    #journaliser périodiquement.\n",
    "    if iter % 100 == 0: # Imprimer les valeurs de 0 à 400 inclus.\n",
    "        print(f\"Perte d'entraînement à l'itération {iter}: {valeur_perte:0.2f}\")\n",
    " if iter % 100 != 0:  # Imprimer le dernier boucle\n",
    "   print(f\"Perte d'entraînement à l'itération {iter}: {valeur_perte:0.2f}\")\n",
    " return [X, W,b_u,b_f,valeur_perte]"
   ]
  },
  {
   "cell_type": "code",
   "execution_count": 20,
   "id": "c5ccb31a-e8ea-4175-a3f6-7ce55538baf2",
   "metadata": {},
   "outputs": [
    {
     "name": "stdout",
     "output_type": "stream",
     "text": [
      "Perte d'entraînement à l'itération 0: 721791.07\n",
      "Perte d'entraînement à l'itération 100: 18132.07\n",
      "Perte d'entraînement à l'itération 200: 16218.74\n",
      "Perte d'entraînement à l'itération 300: 15790.41\n",
      "Perte d'entraînement à l'itération 400: 15599.20\n",
      "Perte d'entraînement à l'itération 499: 15488.67\n"
     ]
    }
   ],
   "source": [
    "[X1,W1,b_u1,b_f1,valeur_perte1]= GD_modele_init(W1,X1,b_u1,b_f1,Y,R,1,500,opti1,mu)"
   ]
  },
  {
   "cell_type": "markdown",
   "id": "4eefb91f-455a-4048-b267-4888829bd973",
   "metadata": {},
   "source": [
    "On remarque qu'entre les itérations 400 et 500, ***la perte ne diminue pas de manière significative. On peut envisager de fixer le nombre d'itérations à 400 ou 500***."
   ]
  },
  {
   "cell_type": "markdown",
   "id": "c38cd99f-c2e2-42be-9638-53a7778b8185",
   "metadata": {},
   "source": [
    "#### 2.2 L'ajustement du modèle"
   ]
  },
  {
   "cell_type": "code",
   "execution_count": 21,
   "id": "d74acd8d-eee1-4ea0-9bae-15760b6566ad",
   "metadata": {},
   "outputs": [],
   "source": [
    "opti2 = keras.optimizers.Adam(learning_rate=1e-1) #le taux d'apprentissage Adam"
   ]
  },
  {
   "cell_type": "code",
   "execution_count": 22,
   "id": "385f1a5e-f74b-4b89-839f-3ca1a51fb3e7",
   "metadata": {},
   "outputs": [],
   "source": [
    "def suivre_variables_ajust(X_initial, W_initial):\n",
    "    W = tf.Variable(W_initial, name='W')     \n",
    "    X = tf.Variable(X_initial, name='X')   \n",
    "    B = tf.Variable(tf.random.normal((nb_films,          nb_utilisateurs),   dtype=tf.float64),  name='B') #initialiser aleatoirement\n",
    "    return X, W, B # 3 paramètres à suivre"
   ]
  },
  {
   "cell_type": "code",
   "execution_count": 23,
   "id": "3311228a-a262-4030-a2cc-8481571a6eae",
   "metadata": {},
   "outputs": [],
   "source": [
    "X2,W2,B2 = suivre_variables_ajust(X_initiale, W_initiale)"
   ]
  },
  {
   "cell_type": "code",
   "execution_count": 24,
   "id": "02338b2a-e696-4a6f-8511-04fe5804aafb",
   "metadata": {},
   "outputs": [
    {
     "name": "stdout",
     "output_type": "stream",
     "text": [
      "La Perte (sans regularisation): 615392.762\n",
      "La Perte (avec regularisation): 3637655.687\n"
     ]
    }
   ],
   "source": [
    "Perte=FonctionPerte_Ajust(W_initiale,X_initiale,B2,Y,R,0,mu)\n",
    "PerteRegul=FonctionPerte_Ajust(W_initiale,X_initiale,B2,Y,R,1,mu)\n",
    "print(f\"La Perte (sans regularisation): {Perte:0.3f}\")\n",
    "print(f\"La Perte (avec regularisation): {PerteRegul:0.3f}\")"
   ]
  },
  {
   "cell_type": "code",
   "execution_count": 25,
   "id": "b62fc109-92e5-4de4-9303-0986c245445d",
   "metadata": {},
   "outputs": [],
   "source": [
    "def GD_modele_ajust(W,X,B,Y,R,lambda_,iterations,taux_apprenti,mu):\n",
    " for iter in range(iterations):\n",
    "    # Enregistrer les opérations utilisées pour calculer la perte\n",
    "    with tf.GradientTape() as tape:\n",
    "\n",
    "        # Calculer la perte\n",
    "        valeur_perte = FonctionPerte_Ajust(W,X,B,Y,R,lambda_,mu)\n",
    "\n",
    "    # Récupérer automatiquement les gradients des variables entraînables par rapport à la perte\n",
    "    grads = tape.gradient(valeur_perte, [X, W,B])\n",
    "\n",
    "    # Exécuter une étape de descente de gradient en mettant à jour la valeur des variables pour minimiser la perte\n",
    "    taux_apprenti.apply_gradients(zip(grads, [X, W,B]))\n",
    "    \n",
    "    #journaliser périodiquement.\n",
    "    if iter % 100 == 0: # Imprimer les valeurs de 0 à 400 inclus.\n",
    "        print(f\"Perte d'entraînement à l'itération {iter}: {valeur_perte:0.2f}\")\n",
    " if iter % 100 != 0:  # Imprimer le dernier boucle\n",
    "   print(f\"Perte d'entraînement à l'itération {iter}: {valeur_perte:0.2f}\")\n",
    " return [X, W,B,valeur_perte]"
   ]
  },
  {
   "cell_type": "code",
   "execution_count": 26,
   "id": "25b13a88-5bab-4c89-9827-496eb94e0ef3",
   "metadata": {},
   "outputs": [
    {
     "name": "stdout",
     "output_type": "stream",
     "text": [
      "Perte d'entraînement à l'itération 0: 3637655.69\n",
      "Perte d'entraînement à l'itération 100: 12635.58\n",
      "Perte d'entraînement à l'itération 200: 10997.04\n",
      "Perte d'entraînement à l'itération 300: 10656.97\n",
      "Perte d'entraînement à l'itération 400: 10493.24\n",
      "Perte d'entraînement à l'itération 499: 10399.46\n"
     ]
    }
   ],
   "source": [
    "[X2,W2,B2,valeur_perte2]= GD_modele_ajust(W2,X2,B2,Y,R,1,500,opti2,mu)"
   ]
  },
  {
   "cell_type": "markdown",
   "id": "c8207796-b030-43eb-b026-29012825b680",
   "metadata": {},
   "source": [
    "#### 2.3 Des ajustements supplémentaires du modèle\n",
    "##### l'Approche 1.A"
   ]
  },
  {
   "cell_type": "code",
   "execution_count": 27,
   "id": "ce9ea9cb-8a89-4d50-a404-cff3a203dfbc",
   "metadata": {},
   "outputs": [],
   "source": [
    "opti3 = keras.optimizers.Adam(learning_rate=1e-1) #le taux d'apprentissage Adam"
   ]
  },
  {
   "cell_type": "code",
   "execution_count": 28,
   "id": "c144c09c-71f0-48f3-a948-aa08fd4d564a",
   "metadata": {},
   "outputs": [],
   "source": [
    "def suivre_variables_1A(X_initial, W_initial, b_u,b_f):\n",
    "    W3 = tf.Variable(W_initial, name='W')     \n",
    "    X3 = tf.Variable(X_initial, name='X')     \n",
    "    b_u3 = tf.Variable(np.array(list(b_u.values())).reshape(1, -1),  name='b_u_train') # valeur pré-calculée à suivre\n",
    "    b_f3 = tf.Variable(np.array(list(b_f.values())).reshape(-1, 1),  name='b_f_train') # valeur pré-calculée à suivre\n",
    "    return X3, W3, b_u3, b_f3"
   ]
  },
  {
   "cell_type": "code",
   "execution_count": 29,
   "id": "1a9cf633-a699-424c-b859-e72cf9eed079",
   "metadata": {},
   "outputs": [],
   "source": [
    "X3, W3,b_u3,b_f3 = suivre_variables_1A(X_initiale, W_initiale,b_u,b_f)"
   ]
  },
  {
   "cell_type": "code",
   "execution_count": 30,
   "id": "de512d57-e7fa-43e5-9ef2-e3b346790f4e",
   "metadata": {},
   "outputs": [
    {
     "name": "stdout",
     "output_type": "stream",
     "text": [
      "La Perte (sans regularisation): 590677.619\n",
      "La Perte (avec regularisation): 646176.434\n"
     ]
    }
   ],
   "source": [
    "Perte=FonctionPerte_Sup1(W_initiale,X_initiale,b_u3,b_f3,Ynorm,R,0)\n",
    "PerteRegul=FonctionPerte_Sup1(W_initiale,X_initiale,b_u3,b_f3,Ynorm,R,1)\n",
    "print(f\"La Perte (sans regularisation): {Perte:0.3f}\")\n",
    "print(f\"La Perte (avec regularisation): {PerteRegul:0.3f}\")"
   ]
  },
  {
   "cell_type": "code",
   "execution_count": 31,
   "id": "47c590b5-e274-4f35-b976-2049cd375fdb",
   "metadata": {},
   "outputs": [],
   "source": [
    "def GD_modele_Sup1(W,X,b_u,b_f,Y,R,lambda_,iterations,taux_apprenti):\n",
    " for iter in range(iterations):\n",
    "    # Enregistrer les opérations utilisées pour calculer la Perte\n",
    "    with tf.GradientTape() as tape:\n",
    "\n",
    "        # Calculer la Perte \n",
    "        valeur_perte = FonctionPerte_Sup1(W, X, b_u,b_f, Y, R, lambda_)\n",
    "\n",
    "    # Récupérer automatiquement les gradients des variables entraînables par rapport à la perte\n",
    "    grads = tape.gradient(valeur_perte, [X, W,b_u,b_f])\n",
    "\n",
    "    # Exécuter une étape de descente de gradient en mettant à jour la valeur des variables pour minimiser la perte\n",
    "    taux_apprenti.apply_gradients(zip(grads, [X, W,b_u,b_f]))\n",
    "    \n",
    "    #journaliser périodiquement.\n",
    "    if iter % 100 == 0: # Imprimer les valeurs de 0 à 400 inclus.\n",
    "        print(f\"Perte d'entraînement à l'itération {iter}: {valeur_perte:0.2f}\")\n",
    " if iter % 100 != 0:  # Imprimer le dernier boucle:\n",
    "   print(f\"Perte d'entraînement à l'itération {iter}: {valeur_perte:0.2f}\")\n",
    " return [X, W,b_u,b_f,valeur_perte]"
   ]
  },
  {
   "cell_type": "code",
   "execution_count": 32,
   "id": "efcb8858-4064-4ac4-82bc-a05e30241661",
   "metadata": {},
   "outputs": [
    {
     "name": "stdout",
     "output_type": "stream",
     "text": [
      "Perte d'entraînement à l'itération 0: 646176.43\n",
      "Perte d'entraînement à l'itération 100: 17582.75\n",
      "Perte d'entraînement à l'itération 200: 15669.52\n",
      "Perte d'entraînement à l'itération 300: 15257.57\n",
      "Perte d'entraînement à l'itération 400: 15078.09\n",
      "Perte d'entraînement à l'itération 499: 14980.79\n"
     ]
    }
   ],
   "source": [
    "[X3, W3,b_u3,b_f3,valeur_perte3]= GD_modele_Sup1(W3,X3,b_u3,b_f3,Ynorm,R,1,500,opti3)"
   ]
  },
  {
   "cell_type": "markdown",
   "id": "63c11d59-564f-4b35-a034-511ef0207128",
   "metadata": {},
   "source": [
    "##### l'Approche 1.B"
   ]
  },
  {
   "cell_type": "code",
   "execution_count": 33,
   "id": "767f7b3e-757f-40b4-a7b5-c6c41a0bf867",
   "metadata": {},
   "outputs": [],
   "source": [
    "opti4 = keras.optimizers.Adam(learning_rate=1e-1) #le taux d'apprentissage Adam"
   ]
  },
  {
   "cell_type": "code",
   "execution_count": 34,
   "id": "d4e81e85-8d27-46ac-ba71-8fa8c29cd417",
   "metadata": {},
   "outputs": [],
   "source": [
    "def suivre_variables_1B(X_initial, W_initial):\n",
    "    W4 = tf.Variable(W_initial, name='W')     \n",
    "    X4 = tf.Variable(X_initial, name='X')     \n",
    "    b_u4 = tf.Variable(tf.random.normal((1,          nb_utilisateurs),   dtype=tf.float64),  name='b_u') #initialiser aleatoirement\n",
    "    b_f4 = tf.Variable(tf.random.normal((nb_films,          1),   dtype=tf.float64),  name='b_f') #initialiser aleatoirement\n",
    "    return X4, W4, b_u4, b_f4"
   ]
  },
  {
   "cell_type": "code",
   "execution_count": 35,
   "id": "ee694a2e-5a48-464d-80be-43e876d72084",
   "metadata": {},
   "outputs": [],
   "source": [
    "X4, W4,b_u4,b_f4 = suivre_variables_1B(X_initiale, W_initiale)"
   ]
  },
  {
   "cell_type": "code",
   "execution_count": 36,
   "id": "58b7bd80-4825-4198-ad13-47727cd096c7",
   "metadata": {},
   "outputs": [
    {
     "name": "stdout",
     "output_type": "stream",
     "text": [
      "La Perte (sans regularisation): 648036.000\n",
      "a Perte (avec regularisation): 704709.302\n"
     ]
    }
   ],
   "source": [
    "Perte=FonctionPerte_Sup1(W_initiale,X_initiale,b_u4,b_f4,Ynorm,R,0)\n",
    "PerteRegul=FonctionPerte_Sup1(W_initiale,X_initiale,b_u4,b_f4,Ynorm,R,1)\n",
    "print(f\"La Perte (sans regularisation): {Perte:0.3f}\")\n",
    "print(f\"a Perte (avec regularisation): {PerteRegul:0.3f}\")"
   ]
  },
  {
   "cell_type": "code",
   "execution_count": 37,
   "id": "3e5c10e1-7ca9-47c6-9dab-a9cc2e674af6",
   "metadata": {},
   "outputs": [
    {
     "name": "stdout",
     "output_type": "stream",
     "text": [
      "Perte d'entraînement à l'itération 0: 704709.30\n",
      "Perte d'entraînement à l'itération 100: 17571.65\n",
      "Perte d'entraînement à l'itération 200: 15718.96\n",
      "Perte d'entraînement à l'itération 300: 15300.92\n",
      "Perte d'entraînement à l'itération 400: 15112.73\n",
      "Perte d'entraînement à l'itération 499: 15000.77\n"
     ]
    }
   ],
   "source": [
    "[X4, W4,b_u4,b_f4,valeur_perte4]= GD_modele_Sup1(W4,X4,b_u4,b_f4,Ynorm,R,1,500,opti4)"
   ]
  },
  {
   "cell_type": "markdown",
   "id": "6e158465-e462-46bc-a1ac-f003805c1676",
   "metadata": {},
   "source": [
    "##### l'Approche 2.A"
   ]
  },
  {
   "cell_type": "code",
   "execution_count": 38,
   "id": "4424164d-74e9-426a-b1eb-b7b908dd0a48",
   "metadata": {},
   "outputs": [],
   "source": [
    "opti5 = keras.optimizers.Adam(learning_rate=1e-1) #le taux d'apprentissage Adam"
   ]
  },
  {
   "cell_type": "code",
   "execution_count": 39,
   "id": "0b92aa06-0dd9-4387-a1d2-f899e97ee377",
   "metadata": {},
   "outputs": [],
   "source": [
    "def suivre_variables_2A(X_initial, W_initial, B):\n",
    "    W5 = tf.Variable(W_initial, name='W')   \n",
    "    X5 = tf.Variable(X_initial, name='X')  \n",
    "    B5 = tf.Variable(B, name='B') # valeur pré-calculée à suivre\n",
    "    return X5, W5, B5"
   ]
  },
  {
   "cell_type": "code",
   "execution_count": 40,
   "id": "6740b9c3-fdfb-4fff-9776-a95121a3e9e2",
   "metadata": {},
   "outputs": [],
   "source": [
    "X5, W5,B5 = suivre_variables_2A(X_initiale, W_initiale, B)"
   ]
  },
  {
   "cell_type": "code",
   "execution_count": 41,
   "id": "5852a306-2b49-41be-8308-c1e58587d24c",
   "metadata": {},
   "outputs": [
    {
     "name": "stdout",
     "output_type": "stream",
     "text": [
      "La Perte (sans regularisation): 590677.619\n",
      "La Perte (avec regularisation): 3595009.994\n"
     ]
    }
   ],
   "source": [
    "Perte=FonctionPerte_Sup2(W_initiale,X_initiale,B5,Ynorm,R,0)\n",
    "PerteRegul=FonctionPerte_Sup2(W_initiale,X_initiale,B5,Ynorm,R,1)\n",
    "print(f\"La Perte (sans regularisation): {Perte:0.3f}\")\n",
    "print(f\"La Perte (avec regularisation): {PerteRegul:0.3f}\")"
   ]
  },
  {
   "cell_type": "code",
   "execution_count": 42,
   "id": "63830bfc-b42c-4221-9baf-9f2d4f55e6f1",
   "metadata": {},
   "outputs": [],
   "source": [
    "def GD_modele_Sup2(W,X,B,Y,R,lambda_,iterations,taux_apprenti):\n",
    " for iter in range(iterations):\n",
    "    # Enregistrer les opérations utilisées pour calculer la perte\n",
    "    with tf.GradientTape() as tape:\n",
    "\n",
    "        # Calculer la perte\n",
    "        valeur_perte = FonctionPerte_Sup2(W, X, B, Y, R, lambda_)\n",
    "\n",
    "    # Récupérer automatiquement les gradients des variables entraînables par rapport à la perte\n",
    "    grads = tape.gradient(valeur_perte, [X, W,B])\n",
    "\n",
    "    # Exécuter une étape de descente de gradient en mettant à jour la valeur des variables pour minimiser la perte\n",
    "    taux_apprenti.apply_gradients(zip(grads, [X, W,B]))\n",
    "    \n",
    "    #journaliser périodiquement.\n",
    "    if iter % 100 == 0: # Imprimer les valeurs de 0 à 400 inclus.\n",
    "        print(f\"Perte d'entraînement à l'itération {iter}: {valeur_perte:0.2f}\")\n",
    " if iter % 100 != 0:  # Imprimer le dernier boucle\n",
    "   print(f\"Perte d'entraînement à l'itération {iter}: {valeur_perte:0.2f}\")\n",
    " return [X, W, B,valeur_perte]"
   ]
  },
  {
   "cell_type": "code",
   "execution_count": 43,
   "id": "95b4215e-92e7-411c-b3c7-9906d542e067",
   "metadata": {},
   "outputs": [
    {
     "name": "stdout",
     "output_type": "stream",
     "text": [
      "Perte d'entraînement à l'itération 0: 3595009.99\n",
      "Perte d'entraînement à l'itération 100: 11713.42\n",
      "Perte d'entraînement à l'itération 200: 10043.38\n",
      "Perte d'entraînement à l'itération 300: 9704.08\n",
      "Perte d'entraînement à l'itération 400: 9554.08\n",
      "Perte d'entraînement à l'itération 499: 9476.71\n"
     ]
    }
   ],
   "source": [
    "[X5, W5,B5,valeur_perte5]= GD_modele_Sup2(W5,X5,B5,Ynorm,R,1,500,opti5)"
   ]
  },
  {
   "cell_type": "markdown",
   "id": "11d02bab-bd1c-4bd7-8882-93caa7006d09",
   "metadata": {},
   "source": [
    "##### l'Approche 2.B"
   ]
  },
  {
   "cell_type": "code",
   "execution_count": 44,
   "id": "6b3a79ac-d19a-4e56-bce9-bf4dde8a0a56",
   "metadata": {},
   "outputs": [],
   "source": [
    "opti6 = keras.optimizers.Adam(learning_rate=1e-1) #le taux d'apprentissage Adam"
   ]
  },
  {
   "cell_type": "code",
   "execution_count": 45,
   "id": "fff0f8a6-2723-4850-ae30-d81998cfd729",
   "metadata": {},
   "outputs": [],
   "source": [
    "def suivre_variables_2B(X_initial, W_initial):\n",
    "    W6 = tf.Variable(W_initial, name='W')     \n",
    "    X6 = tf.Variable(X_initial, name='X')    \n",
    "    B6 = tf.Variable(tf.random.normal((nb_films,          nb_utilisateurs),   dtype=tf.float64),  name='B') #initialiser aleatoirement\n",
    "    return X6, W6, B6"
   ]
  },
  {
   "cell_type": "code",
   "execution_count": 46,
   "id": "b940ab51-a61b-4e32-9f5c-ec0aaa5312a2",
   "metadata": {},
   "outputs": [],
   "source": [
    "X6, W6,B6 = suivre_variables_2B(X_initiale, W_initiale)"
   ]
  },
  {
   "cell_type": "code",
   "execution_count": 47,
   "id": "1bba5951-5265-461e-8798-4e38ca8d6ee4",
   "metadata": {},
   "outputs": [
    {
     "name": "stdout",
     "output_type": "stream",
     "text": [
      "La Perte (sans regularisation): 600215.195\n",
      "La Perte (avec regularisation): 3623134.970\n"
     ]
    }
   ],
   "source": [
    "Perte=FonctionPerte_Sup2(W_initiale,X_initiale,B6,Ynorm,R,0)\n",
    "PerteRegul=FonctionPerte_Sup2(W_initiale,X_initiale,B6,Ynorm,R,1)\n",
    "print(f\"La Perte (sans regularisation): {Perte:0.3f}\")\n",
    "print(f\"La Perte (avec regularisation): {PerteRegul:0.3f}\")"
   ]
  },
  {
   "cell_type": "code",
   "execution_count": 48,
   "id": "27d33f7e-0bfe-4d8d-be11-aefabf9e3c1b",
   "metadata": {},
   "outputs": [
    {
     "name": "stdout",
     "output_type": "stream",
     "text": [
      "Perte d'entraînement à l'itération 0: 3623134.97\n",
      "Perte d'entraînement à l'itération 100: 11743.68\n",
      "Perte d'entraînement à l'itération 200: 10100.98\n",
      "Perte d'entraînement à l'itération 300: 9745.20\n",
      "Perte d'entraînement à l'itération 400: 9584.00\n",
      "Perte d'entraînement à l'itération 499: 9500.36\n"
     ]
    }
   ],
   "source": [
    "[X6, W6,B6,valeur_perte6]= GD_modele_Sup2(W6,X6,B6,Ynorm,R,1,500,opti6)"
   ]
  },
  {
   "cell_type": "markdown",
   "id": "8d036e48-375e-4ea1-b662-458bbefdb4f7",
   "metadata": {},
   "source": [
    "#### 2.3 Comparaison entre la valeur de perte entre des modèles."
   ]
  },
  {
   "cell_type": "code",
   "execution_count": 49,
   "id": "619c6b81-8310-4537-9476-5608af72b5a8",
   "metadata": {},
   "outputs": [
    {
     "name": "stdout",
     "output_type": "stream",
     "text": [
      "La valeur obtenue après l'entraînement du modèle initial   : 15488.670\n",
      "La valeur obtenue après l'entraînement de l'ajustement du modèle   : 10399.461\n",
      "La valeur obtenue après l'entraînement de l'ajustement supplémentaire du modèle (1A)   : 14980.795\n",
      "La valeur obtenue après l'entraînement de l'ajustement supplémentaire du modèle (1B)   : 15000.773\n",
      "La valeur obtenue après l'entraînement de l'ajustement supplémentaire du modèle (2A)   : 9476.709\n",
      "La valeur obtenue après l'entraînement de l'ajustement supplémentaire du modèle (2B)   : 9500.357\n"
     ]
    }
   ],
   "source": [
    "print(f\"La valeur obtenue après l'entraînement du modèle initial   : {valeur_perte1:0.3f}\")\n",
    "print(f\"La valeur obtenue après l'entraînement de l'ajustement du modèle   : {valeur_perte2:0.3f}\")\n",
    "print(f\"La valeur obtenue après l'entraînement de l'ajustement supplémentaire du modèle (1A)   : {valeur_perte3:0.3f}\")\n",
    "print(f\"La valeur obtenue après l'entraînement de l'ajustement supplémentaire du modèle (1B)   : {valeur_perte4:0.3f}\")\n",
    "print(f\"La valeur obtenue après l'entraînement de l'ajustement supplémentaire du modèle (2A)   : {valeur_perte5:0.3f}\")\n",
    "print(f\"La valeur obtenue après l'entraînement de l'ajustement supplémentaire du modèle (2B)   : {valeur_perte6:0.3f}\")"
   ]
  },
  {
   "cell_type": "markdown",
   "id": "f3b0f18d-4f12-4156-8936-389cfe77adcb",
   "metadata": {},
   "source": [
    "## Évaluation <a id=\"5\"></a>"
   ]
  },
  {
   "cell_type": "markdown",
   "id": "6cd307b5-e41d-459d-ba4c-794d940710a1",
   "metadata": {},
   "source": [
    "### Évaluation des modèles"
   ]
  },
  {
   "cell_type": "code",
   "execution_count": 50,
   "id": "ab7b9ae9-48de-4a1f-b656-49015c402108",
   "metadata": {},
   "outputs": [],
   "source": [
    "p1=tf.linalg.matmul(X1, W1)+b_u1+b_f1+mu \n",
    "predict1 = p1.numpy()"
   ]
  },
  {
   "cell_type": "code",
   "execution_count": 51,
   "id": "2da92998-2cb1-4895-9bf1-c3dd7191ccef",
   "metadata": {},
   "outputs": [],
   "source": [
    "p2=tf.linalg.matmul(X2, W2)+B2+mu \n",
    "predict2 = p2.numpy()"
   ]
  },
  {
   "cell_type": "code",
   "execution_count": 52,
   "id": "81adb2d0-ca3f-460b-ae6d-5e755764e645",
   "metadata": {},
   "outputs": [],
   "source": [
    "p3=tf.linalg.matmul(X3, W3)+b_u3+b_f3 \n",
    "p3moy = p3 + Ymean\n",
    "predict3 = p3moy.numpy()"
   ]
  },
  {
   "cell_type": "code",
   "execution_count": 53,
   "id": "28867820",
   "metadata": {},
   "outputs": [],
   "source": [
    "p4=tf.linalg.matmul(X4, W4)+b_u4+b_f4 \n",
    "p4moy = p4 + Ymean\n",
    "predict4 = p4moy.numpy()"
   ]
  },
  {
   "cell_type": "code",
   "execution_count": 54,
   "id": "1d14a9d1-d0f3-4c72-acc0-f7d2b543f2cd",
   "metadata": {},
   "outputs": [],
   "source": [
    "p5=tf.linalg.matmul(X5, W5)+B5 \n",
    "p5moy = p5 + Ymean\n",
    "predict5= p5moy.numpy()"
   ]
  },
  {
   "cell_type": "code",
   "execution_count": 55,
   "id": "f01bb596-51bd-4eb8-b8ab-759b00ac1766",
   "metadata": {},
   "outputs": [],
   "source": [
    "p6=tf.linalg.matmul(X6, W6)+B6 \n",
    "p6moy = p6 + Ymean\n",
    "predict6 = p6moy.numpy()"
   ]
  },
  {
   "cell_type": "code",
   "execution_count": 56,
   "id": "1ff81783-c0b2-4742-8291-2f7d97505b75",
   "metadata": {},
   "outputs": [],
   "source": [
    "nb_evaluation = R.sum() #nb evaluation"
   ]
  },
  {
   "cell_type": "markdown",
   "id": "4bd8ae20-fe4d-4b5c-adec-5aa2185f9f32",
   "metadata": {},
   "source": [
    "#### RMSE"
   ]
  },
  {
   "cell_type": "code",
   "execution_count": 57,
   "id": "073e6551-baf4-404c-a947-3029a2dddf6f",
   "metadata": {},
   "outputs": [
    {
     "name": "stdout",
     "output_type": "stream",
     "text": [
      "La moyenne de toutes les notes attribuées (globale) : 3.501527080895623\n",
      "\n",
      "1.RMSE du modèle initial:  0.4855824906184615\n",
      "2.RMSE de l'ajustement du modèle:  0.2680898039715815\n",
      "3.RMSE de l'ajustement supplémentaire du modèle (1A):  0.48452412444271287\n",
      "4.RMSE de l'ajustement supplémentaire du modèle (1B):  0.4850961516375587\n",
      "5.RMSE de l'ajustement supplémentaire du modèle (2A):  0.2638762771470863\n",
      "6.RMSE de l'ajustement supplémentaire du modèle (2B):  0.26437035184277835 \n",
      "\n",
      "La proportion de RMSE 1 par rapport à la note moyenne globale: 13.868 %\n",
      "La proportion de RMSE 2 par rapport à la note moyenne globale: 7.656 %\n",
      "La proportion de RMSE 3 par rapport à la note moyenne globale: 13.838 %\n",
      "La proportion de RMSE 4 par rapport à la note moyenne globale: 13.854 %\n",
      "La proportion de RMSE 5 par rapport à la note moyenne globale: 7.536 %\n",
      "La proportion de RMSE 6 par rapport à la note moyenne globale: 7.550 %\n"
     ]
    }
   ],
   "source": [
    "rmse1 = np.sqrt(np.sum((predict1 - Y)** 2 *R) / nb_evaluation)\n",
    "rmse2 = np.sqrt(np.sum((predict2 - Y)** 2 *R) / nb_evaluation)\n",
    "rmse3 = np.sqrt(np.sum((predict3 - Y)** 2 *R) / nb_evaluation)\n",
    "rmse4 = np.sqrt(np.sum((predict4 - Y)** 2 *R) / nb_evaluation)\n",
    "rmse5 = np.sqrt(np.sum((predict5 - Y)** 2 *R) / nb_evaluation)\n",
    "rmse6 = np.sqrt(np.sum((predict6 - Y)** 2 *R) / nb_evaluation)\n",
    "print(f\"La moyenne de toutes les notes attribuées (globale) : {mu}\\n\")\n",
    "print(\"1.RMSE du modèle initial: \",rmse1)\n",
    "print(\"2.RMSE de l'ajustement du modèle: \",rmse2)\n",
    "print(\"3.RMSE de l'ajustement supplémentaire du modèle (1A): \",rmse3)\n",
    "print(\"4.RMSE de l'ajustement supplémentaire du modèle (1B): \",rmse4)\n",
    "print(\"5.RMSE de l'ajustement supplémentaire du modèle (2A): \",rmse5)\n",
    "print(\"6.RMSE de l'ajustement supplémentaire du modèle (2B): \",rmse6,\"\\n\")\n",
    "print(f\"La proportion de RMSE 1 par rapport à la note moyenne globale: {(rmse1/mu)*100:0.3f} %\" )\n",
    "print(f\"La proportion de RMSE 2 par rapport à la note moyenne globale: {(rmse2/mu)*100:0.3f} %\" )\n",
    "print(f\"La proportion de RMSE 3 par rapport à la note moyenne globale: {(rmse3/mu)*100:0.3f} %\" )\n",
    "print(f\"La proportion de RMSE 4 par rapport à la note moyenne globale: {(rmse4/mu)*100:0.3f} %\" )\n",
    "print(f\"La proportion de RMSE 5 par rapport à la note moyenne globale: {(rmse5/mu)*100:0.3f} %\" )\n",
    "print(f\"La proportion de RMSE 6 par rapport à la note moyenne globale: {(rmse6/mu)*100:0.3f} %\" )\n",
    "#dans le but de compararer avec les modeles utilisant PCA\n",
    "cv_rmse5 = (rmse5/mu)*100\n",
    "cv_rmse6 = (rmse6/mu)*100"
   ]
  },
  {
   "cell_type": "code",
   "execution_count": 59,
   "id": "7fc547b5-18d3-49af-8d18-b2a51fc6935e",
   "metadata": {},
   "outputs": [
    {
     "data": {
      "image/png": "[encoded data removed]",
      "text/plain": [
       "<Figure size 1000x500 with 1 Axes>"
      ]
     },
     "metadata": {},
     "output_type": "display_data"
    }
   ],
   "source": [
    "import matplotlib.pyplot as plt\n",
    "\n",
    "rmse_values = [rmse1, rmse2, rmse3, rmse4, rmse5, rmse6]\n",
    "\n",
    "labels = [\n",
    "    \"Initial Model\",\n",
    "    \"Model Adjustment\",\n",
    "    \"Additional Adjustment (1A)\",\n",
    "    \"Additional Adjustment (1B)\",\n",
    "    \"Additional Adjustment (2A)\",\n",
    "    \"Additional Adjustment (2B)\"\n",
    "]\n",
    "\n",
    "min_rmse_index = rmse_values.index(min(rmse_values))\n",
    "\n",
    "fig, ax = plt.subplots(figsize=(10, 5))\n",
    "\n",
    "# Graphique RMSE\n",
    "bars = ax.bar(labels, rmse_values, color=\"blue\", alpha=0.7)\n",
    "\n",
    "bars[min_rmse_index].set_color(\"red\")  # Changer la couleur de la barre avec le RMSE minimum\n",
    "\n",
    "\n",
    "ax.set_xticks(range(len(labels)))  \n",
    "ax.set_xticklabels(labels, rotation=25, ha=\"right\", fontsize=12)\n",
    "\n",
    "# Annoter chaque barre avec 4 chiffres après la virgule\n",
    "for i, v in enumerate(rmse_values):\n",
    "    ax.text(i, v + 0.09, f\"{v:.5f}\", ha='center', fontsize=12)\n",
    "\n",
    "ax.set_ylim(0, max(rmse_values) * 1.5)  # Agrandir l'axe Y de 20 % par rapport à la valeur maximale\n",
    "\n",
    "# legend\n",
    "ax.text(4, max(rmse_values) * 1.7, f\"$\\\\mu$ = {mu:.3f}\", ha='left', fontsize=12, bbox=dict(facecolor='white', edgecolor='black', boxstyle='round,pad=0.5'))\n",
    "\n",
    "# Titre et labels\n",
    "ax.set_title(\"Comparison of RMSE Values\",fontsize= 14)\n",
    "ax.set_ylabel(\"RMSE value\",fontsize= 11)\n",
    "\n",
    "plt.subplots_adjust(bottom=0.5)\n",
    "plt.savefig(\"Image/RMSE_barplot.png\", dpi=300, bbox_inches='tight')\n",
    "plt.show()"
   ]
  },
  {
   "cell_type": "markdown",
   "id": "c65c3609-c8a5-483b-8e43-e7b2b9dc61d5",
   "metadata": {},
   "source": [
    "#### MAE"
   ]
  },
  {
   "cell_type": "code",
   "execution_count": 60,
   "id": "238966b7-9c04-4d81-ad7f-fed653aa3646",
   "metadata": {},
   "outputs": [
    {
     "name": "stdout",
     "output_type": "stream",
     "text": [
      "La moyenne de toutes les notes attribuées (globale) : 3.501527080895623\n",
      "\n",
      "1.MAE du modèle initial: 0.35142142397059095\n",
      "2.MAE de l'ajustement du modèle: 0.19941009788868597\n",
      "3.MAE de l'ajustement supplémentaire du modèle (1A): 0.34979641716956295\n",
      "4.MAE de l'ajustement supplémentaire du modèle (1B): 0.35060191756501546\n",
      "5.MAE de l'ajustement supplémentaire du modèle (2A): 0.1948493552690919\n",
      "6.MAE de l'ajustement supplémentaire du modèle (2B): 0.19504590768736438 \n",
      "\n",
      "La proportion de MAE 1 par rapport à la note moyenne globale.: 10.036 %\n",
      "La proportion de MAE 2 par rapport à la note moyenne globale.: 5.695 %\n",
      "La proportion de MAE 3 par rapport à la note moyenne globale.: 9.990 %\n",
      "La proportion de MAE 4 par rapport à la note moyenne globale.: 10.013 %\n",
      "La proportion de MAE 4 par rapport à la note moyenne globale.: 5.565 %\n",
      "La proportion de MAE 6 par rapport à la note moyenne globale.: 5.570 %\n"
     ]
    }
   ],
   "source": [
    "mae1 = np.sum(np.abs((predict1 - Y) * R)) / nb_evaluation\n",
    "mae2 = np.sum(np.abs((predict2 - Y) * R)) / nb_evaluation\n",
    "mae3 = np.sum(np.abs((predict3 - Y) * R)) / nb_evaluation\n",
    "mae4 = np.sum(np.abs((predict4 - Y) * R)) / nb_evaluation\n",
    "mae5 = np.sum(np.abs((predict5 - Y) * R)) / nb_evaluation\n",
    "mae6 = np.sum(np.abs((predict6 - Y) * R)) / nb_evaluation\n",
    "print(f\"La moyenne de toutes les notes attribuées (globale) : {mu}\\n\")\n",
    "print(\"1.MAE du modèle initial:\", mae1)\n",
    "print(\"2.MAE de l'ajustement du modèle:\", mae2)\n",
    "print(\"3.MAE de l'ajustement supplémentaire du modèle (1A):\", mae3)\n",
    "print(\"4.MAE de l'ajustement supplémentaire du modèle (1B):\", mae4)\n",
    "print(\"5.MAE de l'ajustement supplémentaire du modèle (2A):\", mae5)\n",
    "print(\"6.MAE de l'ajustement supplémentaire du modèle (2B):\", mae6,\"\\n\")\n",
    "print(f\"La proportion de MAE 1 par rapport à la note moyenne globale.: {(mae1/mu)*100:0.3f} %\" )\n",
    "print(f\"La proportion de MAE 2 par rapport à la note moyenne globale.: {(mae2/mu)*100:0.3f} %\" )\n",
    "print(f\"La proportion de MAE 3 par rapport à la note moyenne globale.: {(mae3/mu)*100:0.3f} %\" )\n",
    "print(f\"La proportion de MAE 4 par rapport à la note moyenne globale.: {(mae4/mu)*100:0.3f} %\" )\n",
    "print(f\"La proportion de MAE 4 par rapport à la note moyenne globale.: {(mae5/mu)*100:0.3f} %\" )\n",
    "print(f\"La proportion de MAE 6 par rapport à la note moyenne globale.: {(mae6/mu)*100:0.3f} %\" )\n",
    "#dans le but de compararer avec les modeles utilisant PCA\n",
    "cv_mae5 = (mae5/mu)*100\n",
    "cv_mae6 = (mae6/mu)*100 "
   ]
  },
  {
   "cell_type": "code",
   "execution_count": 61,
   "id": "c8bb0dcc-1679-4ceb-8a50-af303d6ce698",
   "metadata": {},
   "outputs": [
    {
     "data": {
      "image/png": "[encoded data removed]",
      "text/plain": [
       "<Figure size 1000x500 with 1 Axes>"
      ]
     },
     "metadata": {},
     "output_type": "display_data"
    }
   ],
   "source": [
    "mae_values = [mae1, mae2, mae3, mae4, mae5, mae6]\n",
    "\n",
    "labels = [\n",
    "    \"Initial Model\",\n",
    "    \"Model Adjustment\",\n",
    "    \"Additional Adjustment (1A)\",\n",
    "    \"Additional Adjustment (1B)\",\n",
    "    \"Additional Adjustment (2A)\",\n",
    "    \"Additional Adjustment (2B)\"\n",
    "]\n",
    "\n",
    "# min MAE\n",
    "min_mae_index = mae_values.index(min(mae_values))\n",
    "\n",
    "\n",
    "fig, ax = plt.subplots(figsize=(10, 5))\n",
    "\n",
    "# Graphiqu\n",
    "bars = ax.bar(labels, mae_values, color=\"blue\", alpha=0.7)\n",
    "\n",
    "# Changer la couleur de la barre avec la valeur minimale\n",
    "bars[min_mae_index].set_color(\"red\")  # Changer la couleur de la barre avec le MAE minimum\n",
    "\n",
    "# Définir manuellement les positions des ticks\n",
    "ax.set_xticks(range(len(labels)))  \n",
    "ax.set_xticklabels(labels, rotation=25, ha=\"right\", fontsize=12)\n",
    "\n",
    "for i, v in enumerate(mae_values):\n",
    "    ax.text(i, v + 0.08, f\"{v:.5f}\", ha='center', fontsize=12)\n",
    "\n",
    "ax.set_ylim(0, max(mae_values) * 1.5) # Agrandir l'axe Y de 20 % par rapport à la valeur maximale\n",
    "\n",
    "# legend\n",
    "ax.text(4, max(mae_values) * 1.25, f\"$\\\\mu$ = {mu:.3f}\", ha='left', fontsize=12, bbox=dict(facecolor='white', edgecolor='black', boxstyle='round,pad=0.5'))\n",
    "\n",
    "\n",
    "ax.set_title(\"Comparison of MAE Values\",fontsize= 14)\n",
    "ax.set_ylabel(\"MAE value\",fontsize= 11)\n",
    "\n",
    "plt.subplots_adjust(bottom=0.5)\n",
    "plt.savefig(\"Image/MAE_barplot.png\", dpi=300, bbox_inches='tight')\n",
    "plt.show()"
   ]
  },
  {
   "cell_type": "markdown",
   "id": "d8b7cf7e-a095-4689-8694-692aa5a9cf66",
   "metadata": {},
   "source": [
    "#### Pearson product-moment Correlation Coefficient (PCC)"
   ]
  },
  {
   "cell_type": "code",
   "execution_count": 62,
   "id": "25cfbbd9-76ed-4d72-8452-c3a16f7cd222",
   "metadata": {},
   "outputs": [
    {
     "name": "stdout",
     "output_type": "stream",
     "text": [
      "La moyenne de Ymean : 3.2624895815718498\n",
      "\n",
      "La moyenne de toutes les notes prédites (du modèle initial) : 3.5018222384573026\n",
      "La moyenne de toutes les notes prédites (de l'ajustement du modèle) : 3.50278218814633\n",
      "La moyenne de toutes les notes prédites (de l'ajustement supplémentaire du modèle (1A)) : 3.5011873032088294\n",
      "La moyenne de toutes les notes prédites (de l'ajustement supplémentaire du modèle (1B)) : 3.50116545125232\n",
      "La moyenne de toutes les notes prédites (de l'ajustement supplémentaire du modèle (2A)) : 3.501128757411674\n",
      "La moyenne de toutes les notes prédites (de l'ajustement supplémentaire du modèle (2B)) : 3.501208744101966\n",
      "\n",
      "La moyenne de toutes les notes (globale) : 3.501527080895623\n"
     ]
    }
   ],
   "source": [
    "mask = Y != 0\n",
    "mu_hat1 = np.mean(predict1[mask])\n",
    "mu_hat2 = np.mean(predict2[mask])\n",
    "mu_hat3 = np.mean(predict3[mask])\n",
    "mu_hat4 = np.mean(predict4[mask])\n",
    "mu_hat5 = np.mean(predict5[mask])\n",
    "mu_hat6 = np.mean(predict6[mask])\n",
    "print(f\"La moyenne de Ymean : {np.mean(Ymean)}\\n\")\n",
    "print(f\"La moyenne de toutes les notes prédites (du modèle initial) : {mu_hat1}\")\n",
    "print(f\"La moyenne de toutes les notes prédites (de l'ajustement du modèle) : {mu_hat2}\")\n",
    "print(f\"La moyenne de toutes les notes prédites (de l'ajustement supplémentaire du modèle (1A)) : {mu_hat3}\")\n",
    "print(f\"La moyenne de toutes les notes prédites (de l'ajustement supplémentaire du modèle (1B)) : {mu_hat4}\")\n",
    "print(f\"La moyenne de toutes les notes prédites (de l'ajustement supplémentaire du modèle (2A)) : {mu_hat5}\")\n",
    "print(f\"La moyenne de toutes les notes prédites (de l'ajustement supplémentaire du modèle (2B)) : {mu_hat6}\\n\")\n",
    "print(f\"La moyenne de toutes les notes (globale) : {mu}\")"
   ]
  },
  {
   "cell_type": "code",
   "execution_count": 63,
   "id": "b877866f-9ab2-4119-8a2a-4fbae00d17af",
   "metadata": {},
   "outputs": [
    {
     "name": "stdout",
     "output_type": "stream",
     "text": [
      "PCC du modèle initial:  0.8859230830773038\n",
      "PCC de l'ajustement du modèle:  0.9726258309886389\n",
      "PCC de l'ajustement supplémentaire du modèle (1A):  0.8860295402963518\n",
      "PCC de l'ajustement supplémentaire du modèle (1B):  0.8857427729240349\n",
      "PCC de l'ajustement supplémentaire du modèle (2A):  0.9720528149385737\n",
      "PCC de l'ajustement supplémentaire du modèle (2B):  0.9719751683385274\n"
     ]
    }
   ],
   "source": [
    "numerateur1 = ((predict1 - mu_hat1) * (Y - mu) * R).sum()\n",
    "denominateur1 = np.sqrt( (((Y - mu)*R)**2).sum() * (((predict1 - mu_hat1)*R)**2).sum() )\n",
    "pcc1 = numerateur1/denominateur1\n",
    "print(\"PCC du modèle initial: \",pcc1)\n",
    "\n",
    "numerateur2 = ((predict2 - mu_hat2) * (Y - mu) * R).sum()\n",
    "denominateur2 = np.sqrt( (((Y - mu)*R)**2).sum() * (((predict2 - mu_hat2)*R)**2).sum() )\n",
    "pcc2 = numerateur2/denominateur2\n",
    "print(\"PCC de l'ajustement du modèle: \",pcc2)\n",
    "\n",
    "numerateur3 = ((predict3 - mu_hat3) * (Y - mu) * R).sum()\n",
    "denominateur3 = np.sqrt( (((Y - mu)*R)**2).sum() * (((predict3 - mu_hat3)*R)**2).sum() )\n",
    "pcc3 = numerateur3/denominateur3\n",
    "print(\"PCC de l'ajustement supplémentaire du modèle (1A): \",pcc3)\n",
    "\n",
    "numerateur4 = ((predict4 - mu_hat4) * (Y - mu) * R).sum()\n",
    "denominateur4 = np.sqrt( (((Y - mu)*R)**2).sum() * (((predict4 - mu_hat4)*R)**2).sum() )\n",
    "pcc4 = numerateur4/denominateur4\n",
    "print(\"PCC de l'ajustement supplémentaire du modèle (1B): \",pcc4)\n",
    "\n",
    "numerateur5 = ((predict5 - mu_hat5) * (Y - mu) * R).sum()\n",
    "denominateur5 = np.sqrt( (((Y - mu)*R)**2).sum() * (((predict5 - mu_hat5)*R)**2).sum() )\n",
    "pcc5 = numerateur5/denominateur5\n",
    "print(\"PCC de l'ajustement supplémentaire du modèle (2A): \", pcc5)\n",
    "\n",
    "numerateur6 = ((predict6 - mu_hat6) * (Y - mu) * R).sum()\n",
    "denominateur6 = np.sqrt( (((Y - mu)*R)**2).sum() * (((predict6 - mu_hat6)*R)**2).sum() )\n",
    "pcc6 = numerateur6/denominateur6\n",
    "print(\"PCC de l'ajustement supplémentaire du modèle (2B): \", pcc6)"
   ]
  },
  {
   "cell_type": "code",
   "execution_count": 64,
   "id": "cea5f45d-7a27-4411-9646-44d6fc02db43",
   "metadata": {},
   "outputs": [
    {
     "data": {
      "image/png": "[encoded data removed]",
      "text/plain": [
       "<Figure size 1200x200 with 2 Axes>"
      ]
     },
     "metadata": {},
     "output_type": "display_data"
    }
   ],
   "source": [
    "import seaborn as sns\n",
    "\n",
    "pcc_values = [pcc1, pcc2, pcc3, pcc4, pcc5, pcc6]\n",
    "matrice_pcc = np.array(pcc_values).reshape(1, -1)\n",
    "\n",
    "etiquettes = [\n",
    "    \"Initial Model\",\n",
    "    \"Model Adjustment\",\n",
    "    \"Additional Adjustment (1A)\",\n",
    "    \"Additional Adjustment (1B)\",\n",
    "    \"Additional Adjustment (2A)\",\n",
    "    \"Additional Adjustment (2B)\"\n",
    "]\n",
    "\n",
    "# heatmap\n",
    "plt.figure(figsize=(12, 2))\n",
    "sns.heatmap(matrice_pcc, annot=True, fmt=\".5f\", xticklabels=etiquettes, yticklabels=[\"PCC\"], cmap=\"YlGnBu\",annot_kws={\"size\": 12},cbar_kws={\"shrink\": 0.9, \"aspect\": 11})\n",
    "plt.xticks(rotation=25,fontsize=12)\n",
    "plt.yticks(fontsize=12)\n",
    "plt.title(\"Heatmap of Model PCCs\",fontsize =14)\n",
    "plt.savefig(\"Image/heatmap_pcc.png\", dpi=300, bbox_inches='tight')\n",
    "plt.show()"
   ]
  },
  {
   "cell_type": "code",
   "execution_count": 65,
   "id": "a07a7e8b-6dc0-4b83-a199-e5bde2d58111",
   "metadata": {},
   "outputs": [],
   "source": [
    "import pickle\n",
    "\n",
    "eva_model = [rmse5, rmse6, mae5, mae6, cv_rmse5,cv_rmse6,cv_mae5,cv_mae6]\n",
    "\n",
    "# Ouverture d'un fichier en mode écriture binaire pour enregistrer la liste dans un fichier\n",
    "with open('var1.pkl', 'wb') as f:\n",
    "    # Sauvegarde de la liste 'eva_model' dans le fichier 'var1.pkl' en utilisant pickle\n",
    "    pickle.dump(eva_model, f)"
   ]
  },
  {
   "cell_type": "markdown",
   "id": "15fecf44-3baa-45f7-a5aa-7b8fa20901bb",
   "metadata": {},
   "source": [
    "## Recommandation. <a id=\"6\"></a>"
   ]
  },
  {
   "cell_type": "code",
   "execution_count": 66,
   "id": "cccf3060-a409-419d-b94a-65c7c90e4f09",
   "metadata": {},
   "outputs": [],
   "source": [
    "movie_list, movie_listDf = movies_list()#Importer la liste des films"
   ]
  },
  {
   "cell_type": "markdown",
   "id": "f3aaf46c-5ee5-4262-8e2b-e7096ccea4b9",
   "metadata": {},
   "source": [
    "### Comparaison entre les notes originales et les notes prévisionnelles. <a id=\"6.1\"></a>"
   ]
  },
  {
   "cell_type": "markdown",
   "id": "5fd2cffd-f0e4-401f-8a40-686d6772ab76",
   "metadata": {},
   "source": [
    "**L'ancien utilisateur**"
   ]
  },
  {
   "cell_type": "markdown",
   "id": "f5ecf10e-aee6-4645-8fe1-75a3acfe6c87",
   "metadata": {},
   "source": [
    "Je choisis l'utilisateur qui a l'ID 3 et l'index 3, car cet utilisateur critique beaucoup de films. C'est le signal de biais utilisateur."
   ]
  },
  {
   "cell_type": "code",
   "execution_count": 67,
   "id": "aad1c154-5d98-482e-9eba-4bf87ae635a5",
   "metadata": {},
   "outputs": [
    {
     "name": "stdout",
     "output_type": "stream",
     "text": [
      "(39,)\n"
     ]
    }
   ],
   "source": [
    "# La variable user renvoie les films notés par l'utilisateur Id 3\n",
    "user= Y[R[:, 3].astype(bool),3] #Vous pouvez choisir un autre utilisateur en changeant 3 par un autre numéro, nous avons de 0 à 610 utilisateurs.\n",
    "indices = np.argwhere(R[:, 3].astype(bool))#Les indices des éléments notés par l'utilisateur Id 3.\n",
    "print(user.shape)# Le nombre de films notés par l'utilisateur Id 3"
   ]
  },
  {
   "cell_type": "markdown",
   "id": "b7488853-2435-4cb0-b861-fc6621bbf072",
   "metadata": {},
   "source": [
    "Effectuez la recommandation avec le meilleur modèle : **la deuxième considération (B)**."
   ]
  },
  {
   "cell_type": "code",
   "execution_count": 68,
   "id": "993920c3-6584-4484-9661-849ca7d1be7f",
   "metadata": {},
   "outputs": [
    {
     "name": "stdout",
     "output_type": "stream",
     "text": [
      "La matrice approximee de Y \n",
      "\n",
      "        0         1         2         3         4         5         6    \\\n",
      "0  4.747518  4.353182  3.796967  3.067623  2.269912  4.169125  4.347772   \n",
      "1  3.698441  4.269042  3.776664  2.559274  2.499510  3.374927  4.192737   \n",
      "2  3.537199  4.336322  3.435007  1.760615  1.702265  3.297498  4.283147   \n",
      "3  2.456069  3.294065  2.706810  0.949861  1.874446  1.943878  2.913126   \n",
      "4  3.365812  5.115786  3.707126  1.387867  3.843695  3.142685  4.598544   \n",
      "\n",
      "        7         8         9    ...       601       602       603       604  \\\n",
      "0  4.308897  3.563893  3.873540  ...  4.179694  4.171283  4.052331  3.317832   \n",
      "1  3.789003  3.618319  3.564087  ...  3.716650  3.652398  2.681699  4.519759   \n",
      "2  3.026838  2.948363  3.320457  ...  3.873592  2.859536  2.472417  3.370966   \n",
      "3  1.717099  2.265070  2.445118  ...  2.748323  2.110012  0.786017  2.625701   \n",
      "4  3.357166  2.642848  2.662548  ...  3.449132  2.395266  0.682848  3.140897   \n",
      "\n",
      "        605       606       607       608       609       610  \n",
      "0  3.880675  2.904159  3.623868  2.735862  3.260273  4.606536  \n",
      "1  3.487079  3.437754  4.446466  2.265390  3.116462  4.029423  \n",
      "2  2.597008  3.099332  3.221770  2.160976  2.815615  4.066443  \n",
      "3  1.864355  2.498591  3.501980  2.379621  2.119803  2.554982  \n",
      "4  3.054574  3.152293  3.333739  1.416591  2.831691  2.803419  \n",
      "\n",
      "[5 rows x 611 columns]\n"
     ]
    }
   ],
   "source": [
    "print(\"La matrice approximee de Y \\n\")\n",
    "df_p6_moy = pd.DataFrame(predict6)\n",
    "print(df_p6_moy.head())"
   ]
  },
  {
   "cell_type": "code",
   "execution_count": 69,
   "id": "1d316094-7163-4266-931f-725d49d46dac",
   "metadata": {},
   "outputs": [
    {
     "name": "stdout",
     "output_type": "stream",
     "text": [
      "0 [30]\n",
      "30\n",
      "1 [461]\n",
      "461\n",
      "2 [545]\n",
      "545\n",
      "3 [565]\n",
      "565\n",
      "4 [585]\n",
      "585\n",
      "5 [656]\n",
      "656\n"
     ]
    }
   ],
   "source": [
    "for i,y in enumerate(indices): #example\n",
    "    print(i,y)\n",
    "    print(y[0])\n",
    "    if i == 5:\n",
    "        break"
   ]
  },
  {
   "cell_type": "code",
   "execution_count": 70,
   "id": "6afb40c0-0a92-4cef-b282-f96531ef8831",
   "metadata": {
    "scrolled": true
   },
   "outputs": [
    {
     "name": "stdout",
     "output_type": "stream",
     "text": [
      "Original : 0.50; vs Prédiction : 0.751 pour le film Dangerous Minds (1995)\n",
      "Original : 0.50; vs Prédiction : 0.670 pour le film Schindler's List (1993)\n",
      "Original : 0.50; vs Prédiction : 0.783 pour le film Courage Under Fire (1996)\n",
      "Original : 0.50; vs Prédiction : 0.714 pour le film Operation Dumbo Drop (1995)\n",
      "Original : 0.50; vs Prédiction : 0.848 pour le film Wallace & Gromit: The Best of Aardman Animation (1996)\n",
      "Original : 5.00; vs Prédiction : 4.677 pour le film Escape from L.A. (1996)\n",
      "Original : 0.50; vs Prédiction : 0.985 pour le film My Fair Lady (1964)\n",
      "Original : 0.50; vs Prédiction : 0.738 pour le film Basic Instinct (1992)\n",
      "Original : 0.50; vs Prédiction : 0.623 pour le film Perfect Candidate, A (1996)\n",
      "Original : 0.50; vs Prédiction : 1.070 pour le film Great Escape, The (1963)\n",
      "Original : 0.50; vs Prédiction : 0.951 pour le film Fried Green Tomatoes (1991)\n",
      "Original : 3.50; vs Prédiction : 3.278 pour le film Akira (1988)\n",
      "Original : 0.50; vs Prédiction : 0.543 pour le film Forbidden Planet (1956)\n",
      "Original : 3.00; vs Prédiction : 2.905 pour le film Die Hard 2 (1990)\n",
      "Original : 4.50; vs Prédiction : 4.202 pour le film G.I. Jane (1997)\n",
      "Original : 0.50; vs Prédiction : 0.820 pour le film Babes in Toyland (1961)\n",
      "Original : 0.50; vs Prédiction : 0.856 pour le film Jungle Book, The (1967)\n",
      "Original : 0.50; vs Prédiction : 0.759 pour le film Rescuers Down Under, The (1990)\n",
      "Original : 2.00; vs Prédiction : 2.123 pour le film Tex (1982)\n",
      "Original : 4.00; vs Prédiction : 3.994 pour le film Them! (1954)\n",
      "Original : 0.50; vs Prédiction : 0.755 pour le film Christmas Vacation (National Lampoon's Christmas Vacation) (1989)\n",
      "Original : 5.00; vs Prédiction : 4.850 pour le film Othello (Tragedy of Othello: The Moor of Venice, The) (1952)\n",
      "Original : 4.50; vs Prédiction : 4.371 pour le film Funhouse, The (1981)\n",
      "Original : 0.50; vs Prédiction : 0.908 pour le film Against All Odds (1984)\n",
      "Original : 5.00; vs Prédiction : 4.892 pour le film Starman (1984)\n",
      "Original : 0.50; vs Prédiction : 0.960 pour le film Digimon: The Movie (2000)\n",
      "Original : 5.00; vs Prédiction : 4.922 pour le film Gorillas in the Mist (1988)\n",
      "Original : 0.50; vs Prédiction : 0.647 pour le film Dragonslayer (1981)\n",
      "Original : 5.00; vs Prédiction : 4.968 pour le film Royal Wedding (1951)\n",
      "Original : 5.00; vs Prédiction : 5.000 pour le film Eyewitness (Janitor, The) (1981)\n",
      "Original : 4.50; vs Prédiction : 4.500 pour le film Four Seasons, The (1981)\n",
      "Original : 5.00; vs Prédiction : 4.969 pour le film Empire (2002)\n",
      "Original : 0.50; vs Prédiction : 0.697 pour le film King of Kings (1961)\n",
      "Original : 5.00; vs Prédiction : 5.000 pour le film Three O'Clock High (1987)\n",
      "Original : 4.50; vs Prédiction : 4.500 pour le film Notorious C.H.O. (2002)\n",
      "Original : 5.00; vs Prédiction : 4.923 pour le film Ken Park (2002)\n",
      "Original : 4.50; vs Prédiction : 4.436 pour le film French Connection II (1975)\n",
      "Original : 5.00; vs Prédiction : 5.033 pour le film Max Manus (2008)\n",
      "Original : 0.50; vs Prédiction : 0.694 pour le film Tournament, The (2009)\n"
     ]
    }
   ],
   "source": [
    "# Boucle sur chaque index dans 'indices' avec un compteur 'i'\n",
    "for i, y in enumerate(indices):\n",
    "    idx = y[0]  # Récupère l'index du film à partir de 'y', qui est une liste contenant l'index\n",
    "\n",
    "    # Récupère la prédiction correspondante à l'index 'idx' dans la colonne 3 de 'p6_moy'\n",
    "    # 'tf.gather' est utilisé pour extraire des valeurs d'un tenseur basé sur les index fournis\n",
    "    prédiction = tf.gather(p6moy[:, 3], idx).numpy().item()  # Convertit le tenseur en valeur scalaire\n",
    "\n",
    "    # Affiche la note originale de l'utilisateur et la prédiction\n",
    "    # 'user[i]' donne la note réelle de l'utilisateur pour le film, \n",
    "    # 'movie_list[idx]' fournit le titre du film correspondant à l'index\n",
    "    print(f\"Original : {user[i]:0.2f}; vs Prédiction : {prédiction:0.3f} pour le film {movie_list[idx]}\")"
   ]
  },
  {
   "cell_type": "markdown",
   "id": "1eb7013e-b2b4-4893-988e-dc0148f9bb77",
   "metadata": {},
   "source": [
    "**Le nouvel utilisateur** <a id=\"rec\"></a>"
   ]
  },
  {
   "cell_type": "markdown",
   "id": "0245d4ad-e304-4635-b06f-2edcc6ae5ad3",
   "metadata": {},
   "source": [
    "Tout en haut, j'ai déjà créé un [nouvel utilisateur](#new-user). Maintenant, je vais lui faire des recommandations."
   ]
  },
  {
   "cell_type": "code",
   "execution_count": 71,
   "id": "dd105fa3-125d-419a-bd00-c5a20472a9b7",
   "metadata": {},
   "outputs": [
    {
     "name": "stdout",
     "output_type": "stream",
     "text": [
      "Les nouvelles évaluations de l'utilisateur:\n",
      "\n",
      "A attribué la note 5.0 pour Toy Story (1995).\n",
      "A attribué la note 2.0 pour Terminal Velocity (1994).\n",
      "A attribué la note 3.0 pour Nightmare Before Christmas, The (1993).\n",
      "A attribué la note 4.0 pour Madeline (1998).\n",
      "A attribué la note 2.0 pour Pi (1998).\n",
      "A attribué la note 5.0 pour Loser (2000).\n",
      "A attribué la note 4.0 pour Road Trip (2000).\n",
      "A attribué la note 3.0 pour Benji (1974).\n",
      "A attribué la note 1.0 pour Hannibal (2001).\n",
      "A attribué la note 3.0 pour Time After Time (1979).\n"
     ]
    }
   ],
   "source": [
    "print(\"Les nouvelles évaluations de l'utilisateur:\\n\")\n",
    "for i in mes_notations:\n",
    "        print(f'A attribué la note {mes_notes[i]} pour {movie_list[i]}.')"
   ]
  },
  {
   "cell_type": "code",
   "execution_count": 72,
   "id": "909a8a27-0819-4fd2-be39-e5393b080380",
   "metadata": {},
   "outputs": [
    {
     "name": "stdout",
     "output_type": "stream",
     "text": [
      "(10,)\n"
     ]
    }
   ],
   "source": [
    "# La variable user renvoie les films notés par l'utilisateur Id 1 (nouvel utilisateur)\n",
    "nouvel_utilisateur = Y[R[:, 0].astype(bool),0] \n",
    "indices = np.argwhere(R[:, 0].astype(bool))#Les indices des éléments notés par l'utilisateur Id 1.\n",
    "print(nouvel_utilisateur.shape)# Le nombre de films notés par l'utilisateur Id 1"
   ]
  },
  {
   "cell_type": "code",
   "execution_count": 73,
   "id": "634571d9-42b3-4bad-8540-96872e843519",
   "metadata": {},
   "outputs": [
    {
     "name": "stdout",
     "output_type": "stream",
     "text": [
      "Original : 5.00; vs Prédiction : 4.748 pour le film Toy Story (1995)\n",
      "Original : 2.00; vs Prédiction : 2.188 pour le film Terminal Velocity (1994)\n",
      "Original : 3.00; vs Prédiction : 3.205 pour le film Nightmare Before Christmas, The (1993)\n",
      "Original : 4.00; vs Prédiction : 3.715 pour le film Madeline (1998)\n",
      "Original : 2.00; vs Prédiction : 2.304 pour le film Pi (1998)\n",
      "Original : 5.00; vs Prédiction : 4.726 pour le film Loser (2000)\n",
      "Original : 4.00; vs Prédiction : 3.780 pour le film Road Trip (2000)\n",
      "Original : 3.00; vs Prédiction : 3.248 pour le film Benji (1974)\n",
      "Original : 1.00; vs Prédiction : 1.545 pour le film Hannibal (2001)\n",
      "Original : 3.00; vs Prédiction : 2.695 pour le film Time After Time (1979)\n"
     ]
    }
   ],
   "source": [
    "# Boucle pour parcourir chaque index et valeur dans la liste des indices\n",
    "for i, y in enumerate(indices):\n",
    "    idx = y[0]  # Récupérer l'index (première valeur de y) pour accéder au bon élément\n",
    "\n",
    "    # Extraire la prédiction en utilisant tf.gather sur le tenseur p6_moy\n",
    "    # Cela permet de récupérer la valeur dans la première colonne du tenseur à l'index spécifié\n",
    "    prédiction = tf.gather(p6moy[:, 0], idx).numpy().item()  # Extraire la valeur scalaire du tenseur\n",
    "\n",
    "    # Afficher la note originale de l'utilisateur et la prédiction pour le film correspondant\n",
    "    print(f\"Original : {nouvel_utilisateur[i]:0.2f}; vs Prédiction : {prédiction:0.3f} pour le film {movie_list[idx]}\")"
   ]
  },
  {
   "cell_type": "markdown",
   "id": "00c75b4b-dccd-44c6-9cca-63d0197f5464",
   "metadata": {},
   "source": [
    "### Recommandation des films pour le nouvel utilisateur. <a id=\"6.2\"></a>"
   ]
  },
  {
   "cell_type": "markdown",
   "id": "41471c13-f755-4347-a320-0da534e1e7b1",
   "metadata": {},
   "source": [
    "On veut recommander tous les films avec les notes prévisionnelles très hautes. Dans ce cas, je choisis 4,8 comme norme. Ainsi, tous les films dont la note est supérieure à cela seront recommandés."
   ]
  },
  {
   "cell_type": "code",
   "execution_count": 74,
   "id": "51b4687a-1388-4814-b94c-ca7ae3b2a0f8",
   "metadata": {},
   "outputs": [
    {
     "name": "stdout",
     "output_type": "stream",
     "text": [
      "Il y a 315 films qui sont probablement les préférences du nouvel utilisateur.\n"
     ]
    }
   ],
   "source": [
    "condition = predict6[predict6[:, 0] > 4.8, 0]  #predict6 est initialisé dans partie Evaluation\n",
    "sorted_indices = np.argsort(condition)[::-1] #Sélectionner les indices où les notes vont du plus grand au plus petit\n",
    "recommandation = condition[sorted_indices]\n",
    "print(f\"Il y a {condition.shape[0]} films qui sont probablement les préférences du nouvel utilisateur.\")"
   ]
  },
  {
   "cell_type": "code",
   "execution_count": 75,
   "id": "119e42b1-6524-4af7-8bab-35a2284b36fb",
   "metadata": {},
   "outputs": [
    {
     "name": "stdout",
     "output_type": "stream",
     "text": [
      "Les films que vous pourriez aimer :\n",
      "\n",
      "La note prévisionnelle : 5.052 pour le film Species (1995)\n",
      "La note prévisionnelle : 5.034 pour le film Hate (Haine, La) (1995)\n",
      "La note prévisionnelle : 5.032 pour le film Balto (1995)\n",
      "La note prévisionnelle : 5.000 pour le film Nick of Time (1995)\n",
      "La note prévisionnelle : 5.000 pour le film Three Colors: Red (Trois couleurs: Rouge) (1994)\n",
      "La note prévisionnelle : 5.000 pour le film Forrest Gump (1994)\n",
      "La note prévisionnelle : 5.000 pour le film Three Colors: Blue (Trois couleurs: Bleu) (1993)\n",
      "La note prévisionnelle : 5.000 pour le film Mallrats (1995)\n",
      "La note prévisionnelle : 5.000 pour le film Mighty Morphin Power Rangers: The Movie (1995)\n",
      "La note prévisionnelle : 5.000 pour le film Clerks (1994)\n"
     ]
    }
   ],
   "source": [
    "print(\"Les films que vous pourriez aimer :\\n\")\n",
    "for i, y in enumerate(sorted_indices):# Afficher les 10 films les plus favorables\n",
    "    print(f\"La note prévisionnelle : {condition[y]:0.3f} pour le film {movie_list[y]}\")\n",
    "    if i == 9:\n",
    "        break"
   ]
  },
  {
   "cell_type": "markdown",
   "id": "c8eada43-2a61-48a2-9ca1-8fa164ad9b70",
   "metadata": {},
   "source": [
    "De plus, on pourrait envisager d'afficher des films qui ont reçu beaucoup d'évaluations. Cela pourrait probablement attirer l'attention des utilisateurs critiques ou exigeants."
   ]
  },
  {
   "cell_type": "code",
   "execution_count": 76,
   "id": "85724960-5423-4e4f-8d97-f72e7b1f9643",
   "metadata": {},
   "outputs": [
    {
     "name": "stdout",
     "output_type": "stream",
     "text": [
      "[ 314  277  257 ... 6653 3010 9723]\n",
      "[329 317 307 ...   1   1   1]\n"
     ]
    }
   ],
   "source": [
    "# Calcul du nombre de notes pour chaque film\n",
    "nb_notations_film = np.sum(Y>0, axis=1)\n",
    "# Trie des indices des films du plus grand nombre de notations au plus petit\n",
    "indices = np.argsort(nb_notations_film)[::-1]\n",
    "print(indices)\n",
    "# Nombre de notations triées du plus grand au plus petit pour chaque film\n",
    "nb_notes_triees = nb_notations_film[indices]\n",
    "print(nb_notes_triees)"
   ]
  },
  {
   "cell_type": "code",
   "execution_count": 77,
   "id": "2b6da29d-f136-454e-9a00-4b70f85451d4",
   "metadata": {},
   "outputs": [
    {
     "name": "stdout",
     "output_type": "stream",
     "text": [
      "329 évaluations || une moyenne de 4.16 || Forrest Gump (1994)\n",
      "317 évaluations || une moyenne de 4.43 || Shawshank Redemption, The (1994)\n",
      "307 évaluations || une moyenne de 4.20 || Pulp Fiction (1994)\n"
     ]
    }
   ],
   "source": [
    "for z,y in enumerate(indices):\n",
    "        print(f\"{nb_notes_triees[z]} évaluations || une moyenne de {Ymean[y, 0]:0.2f} || {movie_list[y]}\")\n",
    "        if z == 2 :\n",
    "           break"
   ]
  },
  {
   "cell_type": "markdown",
   "id": "d1e2ecfd-9c00-4c53-9419-8c6b03943233",
   "metadata": {},
   "source": [
    "On dispose d'une fonctionnalité supplémentaire pour cette approche : trier d'abord par la moyenne des notes de la plus grande à la plus petite, puis par le nombre d'évaluations."
   ]
  },
  {
   "cell_type": "code",
   "execution_count": 78,
   "id": "1fcdafb7-7bc8-4398-bf17-f791068fab3b",
   "metadata": {},
   "outputs": [
    {
     "name": "stdout",
     "output_type": "stream",
     "text": [
      "Les films populaires qui pourraient vous intéresser:\n",
      "\n",
      "317 évaluations || Prédiction 4.49 || une moyenne de 4.429 || Shawshank Redemption, The (1994)\n",
      "192 évaluations || Prédiction 4.23 || une moyenne de 4.289 || Godfather, The (1972)\n",
      "218 évaluations || Prédiction 3.95 || une moyenne de 4.273 || Home Alone 2: Lost in New York (1992)\n",
      "97 évaluations || Prédiction 4.04 || une moyenne de 4.268 || Dr. Strangelove or: How I Learned to Stop Worrying and Love the Bomb (1964)\n",
      "84 évaluations || Prédiction 3.97 || une moyenne de 4.262 || Rear Window (1954)\n",
      "129 évaluations || Prédiction 4.02 || une moyenne de 4.260 || Blues Brothers, The (1980)\n",
      "107 évaluations || Prédiction 4.21 || une moyenne de 4.252 || Fear City: A Family-Style Comedy (La cité de la peur) (1994)\n",
      "126 évaluations || Prédiction 4.23 || une moyenne de 4.250 || Third Man, The (1949)\n",
      "100 évaluations || Prédiction 4.34 || une moyenne de 4.240 || Casablanca (1942)\n",
      "149 évaluations || Prédiction 4.21 || une moyenne de 4.238 || 10,000 BC (2008)\n"
     ]
    }
   ],
   "source": [
    "# Sélection des indices des films ayant au moins 75 notations et triés par moyenne décroissante\n",
    "indices_tries_par_moyenne = np.where(nb_notations_film > 75)[0]  # Sélection des indices avec au moins 50 notations\n",
    "indices_tries_par_moyenne = indices_tries_par_moyenne[np.argsort(Ymean[indices_tries_par_moyenne, 0])[::-1]]  # Tri par moyenne décroissante\n",
    "\n",
    "print(\"Les films populaires qui pourraient vous intéresser:\\n\")\n",
    "\n",
    "# Affichage des informations pour les 5 premiers films triés\n",
    "for z, y in enumerate(indices_tries_par_moyenne):\n",
    "    print(f\"{nb_notations_film[y]} évaluations || Prédiction {p3moy[y,0]:0.2f} || une moyenne de {Ymean[y, 0]:0.3f} || {movie_list[y]}\")\n",
    "    if z == 9:  \n",
    "        break"
   ]
  },
  {
   "cell_type": "markdown",
   "id": "dfb5eaff-f664-420c-a15d-bc3e91682c0e",
   "metadata": {},
   "source": [
    "**-----C'est fini-----**\n",
    "\n",
    "[FAIRE DÉFILER VERS LE HAUT](#0)"
   ]
  },
  {
   "cell_type": "code",
   "execution_count": null,
   "id": "a5a3e188-0feb-4c78-980e-6786c9dbbfbd",
   "metadata": {},
   "outputs": [],
   "source": []
  },
  {
   "cell_type": "code",
   "execution_count": null,
   "id": "67e51544-a22c-4e03-aa11-2ac3f718d9f7",
   "metadata": {},
   "outputs": [],
   "source": []
  }
 ],
 "metadata": {
  "kernelspec": {
   "display_name": "Python 3 (ipykernel)",
   "language": "python",
   "name": "python3"
  },
  "language_info": {
   "codemirror_mode": {
    "name": "ipython",
    "version": 3
   },
   "file_extension": ".py",
   "mimetype": "text/x-python",
   "name": "python",
   "nbconvert_exporter": "python",
   "pygments_lexer": "ipython3",
   "version": "3.11.4"
  }
 },
 "nbformat": 4,
 "nbformat_minor": 5
}
